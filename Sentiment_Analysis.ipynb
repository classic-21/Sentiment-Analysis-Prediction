{
  "nbformat": 4,
  "nbformat_minor": 0,
  "metadata": {
    "colab": {
      "provenance": []
    },
    "kernelspec": {
      "name": "python3",
      "display_name": "Python 3"
    },
    "language_info": {
      "name": "python"
    }
  },
  "cells": [
    {
      "cell_type": "code",
      "execution_count": 1,
      "metadata": {
        "colab": {
          "base_uri": "https://localhost:8080/"
        },
        "id": "WYaEFD1YWRTR",
        "outputId": "0e71fd83-42c8-475d-ceae-bdcb496e1106"
      },
      "outputs": [
        {
          "output_type": "stream",
          "name": "stderr",
          "text": [
            "[nltk_data] Downloading package stopwords to /root/nltk_data...\n",
            "[nltk_data]   Package stopwords is already up-to-date!\n",
            "[nltk_data] Downloading package wordnet to /root/nltk_data...\n",
            "[nltk_data]   Package wordnet is already up-to-date!\n"
          ]
        }
      ],
      "source": [
        "import numpy as np\n",
        "import pandas as pd\n",
        "import nltk\n",
        "nltk.download('stopwords')\n",
        "from nltk.corpus import stopwords\n",
        "from nltk.stem import PorterStemmer\n",
        "nltk.download('wordnet')\n",
        "import re\n",
        "from tensorflow.keras.preprocessing.text import Tokenizer\n",
        "from keras.preprocessing.sequence import pad_sequences\n",
        "from keras.models import Sequential\n",
        "from keras.layers import Embedding, LSTM, Dense, Input, Dropout, SpatialDropout1D\n",
        "from sklearn.model_selection import train_test_split\n",
        "from sklearn.metrics import accuracy_score, classification_report, confusion_matrix"
      ]
    },
    {
      "cell_type": "code",
      "source": [
        "data = pd.read_csv(\"/content/data.csv\", names=[\"sentence\",\"sentiment\"])[1:]"
      ],
      "metadata": {
        "id": "KWpnJBtvY9XA"
      },
      "execution_count": 2,
      "outputs": []
    },
    {
      "cell_type": "code",
      "source": [
        "data.head()"
      ],
      "metadata": {
        "colab": {
          "base_uri": "https://localhost:8080/",
          "height": 206
        },
        "id": "2cLGZgPAZKr4",
        "outputId": "93c40f37-051d-411b-98b0-24b4714f9672"
      },
      "execution_count": null,
      "outputs": [
        {
          "output_type": "execute_result",
          "data": {
            "text/plain": [
              "                                            sentence sentiment\n",
              "1  The GeoSolutions technology will leverage Bene...  positive\n",
              "2  $ESI on lows, down $1.50 to $2.50 BK a real po...  negative\n",
              "3  For the last quarter of 2010 , Componenta 's n...  positive\n",
              "4  According to the Finnish-Russian Chamber of Co...   neutral\n",
              "5  The Swedish buyout firm has sold its remaining...   neutral"
            ],
            "text/html": [
              "\n",
              "  <div id=\"df-345b7357-2e6c-43e4-b752-795f6d56dda2\" class=\"colab-df-container\">\n",
              "    <div>\n",
              "<style scoped>\n",
              "    .dataframe tbody tr th:only-of-type {\n",
              "        vertical-align: middle;\n",
              "    }\n",
              "\n",
              "    .dataframe tbody tr th {\n",
              "        vertical-align: top;\n",
              "    }\n",
              "\n",
              "    .dataframe thead th {\n",
              "        text-align: right;\n",
              "    }\n",
              "</style>\n",
              "<table border=\"1\" class=\"dataframe\">\n",
              "  <thead>\n",
              "    <tr style=\"text-align: right;\">\n",
              "      <th></th>\n",
              "      <th>sentence</th>\n",
              "      <th>sentiment</th>\n",
              "    </tr>\n",
              "  </thead>\n",
              "  <tbody>\n",
              "    <tr>\n",
              "      <th>1</th>\n",
              "      <td>The GeoSolutions technology will leverage Bene...</td>\n",
              "      <td>positive</td>\n",
              "    </tr>\n",
              "    <tr>\n",
              "      <th>2</th>\n",
              "      <td>$ESI on lows, down $1.50 to $2.50 BK a real po...</td>\n",
              "      <td>negative</td>\n",
              "    </tr>\n",
              "    <tr>\n",
              "      <th>3</th>\n",
              "      <td>For the last quarter of 2010 , Componenta 's n...</td>\n",
              "      <td>positive</td>\n",
              "    </tr>\n",
              "    <tr>\n",
              "      <th>4</th>\n",
              "      <td>According to the Finnish-Russian Chamber of Co...</td>\n",
              "      <td>neutral</td>\n",
              "    </tr>\n",
              "    <tr>\n",
              "      <th>5</th>\n",
              "      <td>The Swedish buyout firm has sold its remaining...</td>\n",
              "      <td>neutral</td>\n",
              "    </tr>\n",
              "  </tbody>\n",
              "</table>\n",
              "</div>\n",
              "    <div class=\"colab-df-buttons\">\n",
              "\n",
              "  <div class=\"colab-df-container\">\n",
              "    <button class=\"colab-df-convert\" onclick=\"convertToInteractive('df-345b7357-2e6c-43e4-b752-795f6d56dda2')\"\n",
              "            title=\"Convert this dataframe to an interactive table.\"\n",
              "            style=\"display:none;\">\n",
              "\n",
              "  <svg xmlns=\"http://www.w3.org/2000/svg\" height=\"24px\" viewBox=\"0 -960 960 960\">\n",
              "    <path d=\"M120-120v-720h720v720H120Zm60-500h600v-160H180v160Zm220 220h160v-160H400v160Zm0 220h160v-160H400v160ZM180-400h160v-160H180v160Zm440 0h160v-160H620v160ZM180-180h160v-160H180v160Zm440 0h160v-160H620v160Z\"/>\n",
              "  </svg>\n",
              "    </button>\n",
              "\n",
              "  <style>\n",
              "    .colab-df-container {\n",
              "      display:flex;\n",
              "      gap: 12px;\n",
              "    }\n",
              "\n",
              "    .colab-df-convert {\n",
              "      background-color: #E8F0FE;\n",
              "      border: none;\n",
              "      border-radius: 50%;\n",
              "      cursor: pointer;\n",
              "      display: none;\n",
              "      fill: #1967D2;\n",
              "      height: 32px;\n",
              "      padding: 0 0 0 0;\n",
              "      width: 32px;\n",
              "    }\n",
              "\n",
              "    .colab-df-convert:hover {\n",
              "      background-color: #E2EBFA;\n",
              "      box-shadow: 0px 1px 2px rgba(60, 64, 67, 0.3), 0px 1px 3px 1px rgba(60, 64, 67, 0.15);\n",
              "      fill: #174EA6;\n",
              "    }\n",
              "\n",
              "    .colab-df-buttons div {\n",
              "      margin-bottom: 4px;\n",
              "    }\n",
              "\n",
              "    [theme=dark] .colab-df-convert {\n",
              "      background-color: #3B4455;\n",
              "      fill: #D2E3FC;\n",
              "    }\n",
              "\n",
              "    [theme=dark] .colab-df-convert:hover {\n",
              "      background-color: #434B5C;\n",
              "      box-shadow: 0px 1px 3px 1px rgba(0, 0, 0, 0.15);\n",
              "      filter: drop-shadow(0px 1px 2px rgba(0, 0, 0, 0.3));\n",
              "      fill: #FFFFFF;\n",
              "    }\n",
              "  </style>\n",
              "\n",
              "    <script>\n",
              "      const buttonEl =\n",
              "        document.querySelector('#df-345b7357-2e6c-43e4-b752-795f6d56dda2 button.colab-df-convert');\n",
              "      buttonEl.style.display =\n",
              "        google.colab.kernel.accessAllowed ? 'block' : 'none';\n",
              "\n",
              "      async function convertToInteractive(key) {\n",
              "        const element = document.querySelector('#df-345b7357-2e6c-43e4-b752-795f6d56dda2');\n",
              "        const dataTable =\n",
              "          await google.colab.kernel.invokeFunction('convertToInteractive',\n",
              "                                                    [key], {});\n",
              "        if (!dataTable) return;\n",
              "\n",
              "        const docLinkHtml = 'Like what you see? Visit the ' +\n",
              "          '<a target=\"_blank\" href=https://colab.research.google.com/notebooks/data_table.ipynb>data table notebook</a>'\n",
              "          + ' to learn more about interactive tables.';\n",
              "        element.innerHTML = '';\n",
              "        dataTable['output_type'] = 'display_data';\n",
              "        await google.colab.output.renderOutput(dataTable, element);\n",
              "        const docLink = document.createElement('div');\n",
              "        docLink.innerHTML = docLinkHtml;\n",
              "        element.appendChild(docLink);\n",
              "      }\n",
              "    </script>\n",
              "  </div>\n",
              "\n",
              "\n",
              "<div id=\"df-e58eefb5-66bf-4711-8b53-d016e860f979\">\n",
              "  <button class=\"colab-df-quickchart\" onclick=\"quickchart('df-e58eefb5-66bf-4711-8b53-d016e860f979')\"\n",
              "            title=\"Suggest charts\"\n",
              "            style=\"display:none;\">\n",
              "\n",
              "<svg xmlns=\"http://www.w3.org/2000/svg\" height=\"24px\"viewBox=\"0 0 24 24\"\n",
              "     width=\"24px\">\n",
              "    <g>\n",
              "        <path d=\"M19 3H5c-1.1 0-2 .9-2 2v14c0 1.1.9 2 2 2h14c1.1 0 2-.9 2-2V5c0-1.1-.9-2-2-2zM9 17H7v-7h2v7zm4 0h-2V7h2v10zm4 0h-2v-4h2v4z\"/>\n",
              "    </g>\n",
              "</svg>\n",
              "  </button>\n",
              "\n",
              "<style>\n",
              "  .colab-df-quickchart {\n",
              "      --bg-color: #E8F0FE;\n",
              "      --fill-color: #1967D2;\n",
              "      --hover-bg-color: #E2EBFA;\n",
              "      --hover-fill-color: #174EA6;\n",
              "      --disabled-fill-color: #AAA;\n",
              "      --disabled-bg-color: #DDD;\n",
              "  }\n",
              "\n",
              "  [theme=dark] .colab-df-quickchart {\n",
              "      --bg-color: #3B4455;\n",
              "      --fill-color: #D2E3FC;\n",
              "      --hover-bg-color: #434B5C;\n",
              "      --hover-fill-color: #FFFFFF;\n",
              "      --disabled-bg-color: #3B4455;\n",
              "      --disabled-fill-color: #666;\n",
              "  }\n",
              "\n",
              "  .colab-df-quickchart {\n",
              "    background-color: var(--bg-color);\n",
              "    border: none;\n",
              "    border-radius: 50%;\n",
              "    cursor: pointer;\n",
              "    display: none;\n",
              "    fill: var(--fill-color);\n",
              "    height: 32px;\n",
              "    padding: 0;\n",
              "    width: 32px;\n",
              "  }\n",
              "\n",
              "  .colab-df-quickchart:hover {\n",
              "    background-color: var(--hover-bg-color);\n",
              "    box-shadow: 0 1px 2px rgba(60, 64, 67, 0.3), 0 1px 3px 1px rgba(60, 64, 67, 0.15);\n",
              "    fill: var(--button-hover-fill-color);\n",
              "  }\n",
              "\n",
              "  .colab-df-quickchart-complete:disabled,\n",
              "  .colab-df-quickchart-complete:disabled:hover {\n",
              "    background-color: var(--disabled-bg-color);\n",
              "    fill: var(--disabled-fill-color);\n",
              "    box-shadow: none;\n",
              "  }\n",
              "\n",
              "  .colab-df-spinner {\n",
              "    border: 2px solid var(--fill-color);\n",
              "    border-color: transparent;\n",
              "    border-bottom-color: var(--fill-color);\n",
              "    animation:\n",
              "      spin 1s steps(1) infinite;\n",
              "  }\n",
              "\n",
              "  @keyframes spin {\n",
              "    0% {\n",
              "      border-color: transparent;\n",
              "      border-bottom-color: var(--fill-color);\n",
              "      border-left-color: var(--fill-color);\n",
              "    }\n",
              "    20% {\n",
              "      border-color: transparent;\n",
              "      border-left-color: var(--fill-color);\n",
              "      border-top-color: var(--fill-color);\n",
              "    }\n",
              "    30% {\n",
              "      border-color: transparent;\n",
              "      border-left-color: var(--fill-color);\n",
              "      border-top-color: var(--fill-color);\n",
              "      border-right-color: var(--fill-color);\n",
              "    }\n",
              "    40% {\n",
              "      border-color: transparent;\n",
              "      border-right-color: var(--fill-color);\n",
              "      border-top-color: var(--fill-color);\n",
              "    }\n",
              "    60% {\n",
              "      border-color: transparent;\n",
              "      border-right-color: var(--fill-color);\n",
              "    }\n",
              "    80% {\n",
              "      border-color: transparent;\n",
              "      border-right-color: var(--fill-color);\n",
              "      border-bottom-color: var(--fill-color);\n",
              "    }\n",
              "    90% {\n",
              "      border-color: transparent;\n",
              "      border-bottom-color: var(--fill-color);\n",
              "    }\n",
              "  }\n",
              "</style>\n",
              "\n",
              "  <script>\n",
              "    async function quickchart(key) {\n",
              "      const quickchartButtonEl =\n",
              "        document.querySelector('#' + key + ' button');\n",
              "      quickchartButtonEl.disabled = true;  // To prevent multiple clicks.\n",
              "      quickchartButtonEl.classList.add('colab-df-spinner');\n",
              "      try {\n",
              "        const charts = await google.colab.kernel.invokeFunction(\n",
              "            'suggestCharts', [key], {});\n",
              "      } catch (error) {\n",
              "        console.error('Error during call to suggestCharts:', error);\n",
              "      }\n",
              "      quickchartButtonEl.classList.remove('colab-df-spinner');\n",
              "      quickchartButtonEl.classList.add('colab-df-quickchart-complete');\n",
              "    }\n",
              "    (() => {\n",
              "      let quickchartButtonEl =\n",
              "        document.querySelector('#df-e58eefb5-66bf-4711-8b53-d016e860f979 button');\n",
              "      quickchartButtonEl.style.display =\n",
              "        google.colab.kernel.accessAllowed ? 'block' : 'none';\n",
              "    })();\n",
              "  </script>\n",
              "</div>\n",
              "\n",
              "    </div>\n",
              "  </div>\n"
            ],
            "application/vnd.google.colaboratory.intrinsic+json": {
              "type": "dataframe",
              "variable_name": "data",
              "summary": "{\n  \"name\": \"data\",\n  \"rows\": 5842,\n  \"fields\": [\n    {\n      \"column\": \"sentence\",\n      \"properties\": {\n        \"dtype\": \"string\",\n        \"num_unique_values\": 5322,\n        \"samples\": [\n          \"It is now the leading private road ambulance service company in Finland .\",\n          \"Finnish silicon wafers manufacturer Okmetic Oyj said it swung to a net profit of 4.9 mln euro $ 6.3 mln in the first nine months of 2006 from a net loss of 1.8 mln euro $ 2.3 mln a year earlier .\",\n          \"$GILD  is expanding its research facilities...keeping up with the pace of innovation  https://t.co/uOE7FJ4LOP\"\n        ],\n        \"semantic_type\": \"\",\n        \"description\": \"\"\n      }\n    },\n    {\n      \"column\": \"sentiment\",\n      \"properties\": {\n        \"dtype\": \"category\",\n        \"num_unique_values\": 3,\n        \"samples\": [\n          \"positive\",\n          \"negative\",\n          \"neutral\"\n        ],\n        \"semantic_type\": \"\",\n        \"description\": \"\"\n      }\n    }\n  ]\n}"
            }
          },
          "metadata": {},
          "execution_count": 7
        }
      ]
    },
    {
      "cell_type": "code",
      "source": [
        "data.shape"
      ],
      "metadata": {
        "colab": {
          "base_uri": "https://localhost:8080/"
        },
        "id": "NZRLTVDnfmtg",
        "outputId": "794f9202-4d83-4921-fea9-c8188ba248bf"
      },
      "execution_count": null,
      "outputs": [
        {
          "output_type": "execute_result",
          "data": {
            "text/plain": [
              "(5842, 2)"
            ]
          },
          "metadata": {},
          "execution_count": 8
        }
      ]
    },
    {
      "cell_type": "code",
      "source": [
        "data.drop_duplicates(subset=['sentence'], inplace=True)\n",
        "data.dropna(axis=0, inplace=True)"
      ],
      "metadata": {
        "id": "qgEPp79OcPuT"
      },
      "execution_count": null,
      "outputs": []
    },
    {
      "cell_type": "code",
      "source": [
        "data.replace('', np.nan, inplace=True)\n",
        "data.dropna(axis=0, inplace=True)"
      ],
      "metadata": {
        "id": "KmXJafXJe7-4"
      },
      "execution_count": null,
      "outputs": []
    },
    {
      "cell_type": "code",
      "source": [
        "data.shape"
      ],
      "metadata": {
        "colab": {
          "base_uri": "https://localhost:8080/"
        },
        "id": "P8ZEpZZyc2mC",
        "outputId": "ce146e6e-f72b-41cb-c7ab-4a8c1905920a"
      },
      "execution_count": null,
      "outputs": [
        {
          "output_type": "execute_result",
          "data": {
            "text/plain": [
              "(5322, 2)"
            ]
          },
          "metadata": {},
          "execution_count": 11
        }
      ]
    },
    {
      "cell_type": "code",
      "source": [
        "data['sentence'] = data['sentence'].apply(lambda x:x.lower())"
      ],
      "metadata": {
        "id": "5jnZ37hNfeyT"
      },
      "execution_count": null,
      "outputs": []
    },
    {
      "cell_type": "code",
      "source": [
        "data['sentence'] = data['sentence'].apply(lambda x: re.sub(r'\"', \"\", x))"
      ],
      "metadata": {
        "id": "fJ-e1V_0ihIq"
      },
      "execution_count": null,
      "outputs": []
    },
    {
      "cell_type": "code",
      "source": [
        "data['sentence'] = data['sentence'].apply(lambda x: re.sub(r'\\([^)]*\\)', \"\", x))"
      ],
      "metadata": {
        "id": "n-RwwUwri5ck"
      },
      "execution_count": null,
      "outputs": []
    },
    {
      "cell_type": "code",
      "source": [
        "data['sentence'] = data['sentence'].apply(lambda x:re.sub(\"[^a-zA-Z]\", \" \", x))"
      ],
      "metadata": {
        "id": "5uMNSxVQjG41"
      },
      "execution_count": null,
      "outputs": []
    },
    {
      "cell_type": "code",
      "source": [
        "data['sentence'] = data['sentence'].apply(lambda x: re.sub(r'\\bs\\b', \"\", x))"
      ],
      "metadata": {
        "id": "6uEM1UocjwGR"
      },
      "execution_count": null,
      "outputs": []
    },
    {
      "cell_type": "code",
      "source": [
        "stop_words = stopwords.words('english')\n",
        "data['sentence'] = data['sentence'].apply(lambda x: ' '.join(x for x in x.split() if x not in stop_words))"
      ],
      "metadata": {
        "id": "kDNhwBGzl0-u"
      },
      "execution_count": null,
      "outputs": []
    },
    {
      "cell_type": "code",
      "source": [
        "stemmer = PorterStemmer()\n",
        "data['sentence'] = data['sentence'].apply(lambda x: ''.join(stemmer.stem(word) for word in x))"
      ],
      "metadata": {
        "id": "vcpfKWPVoijI"
      },
      "execution_count": null,
      "outputs": []
    },
    {
      "cell_type": "code",
      "source": [
        "data.head()"
      ],
      "metadata": {
        "colab": {
          "base_uri": "https://localhost:8080/",
          "height": 206
        },
        "id": "2H6FtpSHkBav",
        "outputId": "596f1274-b408-49c9-a9b8-bf8e9d0849ef"
      },
      "execution_count": null,
      "outputs": [
        {
          "output_type": "execute_result",
          "data": {
            "text/plain": [
              "                                            sentence sentiment\n",
              "1  geosolutions technology leverage benefon gps s...  positive\n",
              "2                       esi lows bk real possibility  negative\n",
              "3  last quarter componenta net sales doubled eur ...  positive\n",
              "4  according finnish russian chamber commerce maj...   neutral\n",
              "5  swedish buyout firm sold remaining percent sta...   neutral"
            ],
            "text/html": [
              "\n",
              "  <div id=\"df-8ec38b1c-0796-4e99-af24-e124caa77a92\" class=\"colab-df-container\">\n",
              "    <div>\n",
              "<style scoped>\n",
              "    .dataframe tbody tr th:only-of-type {\n",
              "        vertical-align: middle;\n",
              "    }\n",
              "\n",
              "    .dataframe tbody tr th {\n",
              "        vertical-align: top;\n",
              "    }\n",
              "\n",
              "    .dataframe thead th {\n",
              "        text-align: right;\n",
              "    }\n",
              "</style>\n",
              "<table border=\"1\" class=\"dataframe\">\n",
              "  <thead>\n",
              "    <tr style=\"text-align: right;\">\n",
              "      <th></th>\n",
              "      <th>sentence</th>\n",
              "      <th>sentiment</th>\n",
              "    </tr>\n",
              "  </thead>\n",
              "  <tbody>\n",
              "    <tr>\n",
              "      <th>1</th>\n",
              "      <td>geosolutions technology leverage benefon gps s...</td>\n",
              "      <td>positive</td>\n",
              "    </tr>\n",
              "    <tr>\n",
              "      <th>2</th>\n",
              "      <td>esi lows bk real possibility</td>\n",
              "      <td>negative</td>\n",
              "    </tr>\n",
              "    <tr>\n",
              "      <th>3</th>\n",
              "      <td>last quarter componenta net sales doubled eur ...</td>\n",
              "      <td>positive</td>\n",
              "    </tr>\n",
              "    <tr>\n",
              "      <th>4</th>\n",
              "      <td>according finnish russian chamber commerce maj...</td>\n",
              "      <td>neutral</td>\n",
              "    </tr>\n",
              "    <tr>\n",
              "      <th>5</th>\n",
              "      <td>swedish buyout firm sold remaining percent sta...</td>\n",
              "      <td>neutral</td>\n",
              "    </tr>\n",
              "  </tbody>\n",
              "</table>\n",
              "</div>\n",
              "    <div class=\"colab-df-buttons\">\n",
              "\n",
              "  <div class=\"colab-df-container\">\n",
              "    <button class=\"colab-df-convert\" onclick=\"convertToInteractive('df-8ec38b1c-0796-4e99-af24-e124caa77a92')\"\n",
              "            title=\"Convert this dataframe to an interactive table.\"\n",
              "            style=\"display:none;\">\n",
              "\n",
              "  <svg xmlns=\"http://www.w3.org/2000/svg\" height=\"24px\" viewBox=\"0 -960 960 960\">\n",
              "    <path d=\"M120-120v-720h720v720H120Zm60-500h600v-160H180v160Zm220 220h160v-160H400v160Zm0 220h160v-160H400v160ZM180-400h160v-160H180v160Zm440 0h160v-160H620v160ZM180-180h160v-160H180v160Zm440 0h160v-160H620v160Z\"/>\n",
              "  </svg>\n",
              "    </button>\n",
              "\n",
              "  <style>\n",
              "    .colab-df-container {\n",
              "      display:flex;\n",
              "      gap: 12px;\n",
              "    }\n",
              "\n",
              "    .colab-df-convert {\n",
              "      background-color: #E8F0FE;\n",
              "      border: none;\n",
              "      border-radius: 50%;\n",
              "      cursor: pointer;\n",
              "      display: none;\n",
              "      fill: #1967D2;\n",
              "      height: 32px;\n",
              "      padding: 0 0 0 0;\n",
              "      width: 32px;\n",
              "    }\n",
              "\n",
              "    .colab-df-convert:hover {\n",
              "      background-color: #E2EBFA;\n",
              "      box-shadow: 0px 1px 2px rgba(60, 64, 67, 0.3), 0px 1px 3px 1px rgba(60, 64, 67, 0.15);\n",
              "      fill: #174EA6;\n",
              "    }\n",
              "\n",
              "    .colab-df-buttons div {\n",
              "      margin-bottom: 4px;\n",
              "    }\n",
              "\n",
              "    [theme=dark] .colab-df-convert {\n",
              "      background-color: #3B4455;\n",
              "      fill: #D2E3FC;\n",
              "    }\n",
              "\n",
              "    [theme=dark] .colab-df-convert:hover {\n",
              "      background-color: #434B5C;\n",
              "      box-shadow: 0px 1px 3px 1px rgba(0, 0, 0, 0.15);\n",
              "      filter: drop-shadow(0px 1px 2px rgba(0, 0, 0, 0.3));\n",
              "      fill: #FFFFFF;\n",
              "    }\n",
              "  </style>\n",
              "\n",
              "    <script>\n",
              "      const buttonEl =\n",
              "        document.querySelector('#df-8ec38b1c-0796-4e99-af24-e124caa77a92 button.colab-df-convert');\n",
              "      buttonEl.style.display =\n",
              "        google.colab.kernel.accessAllowed ? 'block' : 'none';\n",
              "\n",
              "      async function convertToInteractive(key) {\n",
              "        const element = document.querySelector('#df-8ec38b1c-0796-4e99-af24-e124caa77a92');\n",
              "        const dataTable =\n",
              "          await google.colab.kernel.invokeFunction('convertToInteractive',\n",
              "                                                    [key], {});\n",
              "        if (!dataTable) return;\n",
              "\n",
              "        const docLinkHtml = 'Like what you see? Visit the ' +\n",
              "          '<a target=\"_blank\" href=https://colab.research.google.com/notebooks/data_table.ipynb>data table notebook</a>'\n",
              "          + ' to learn more about interactive tables.';\n",
              "        element.innerHTML = '';\n",
              "        dataTable['output_type'] = 'display_data';\n",
              "        await google.colab.output.renderOutput(dataTable, element);\n",
              "        const docLink = document.createElement('div');\n",
              "        docLink.innerHTML = docLinkHtml;\n",
              "        element.appendChild(docLink);\n",
              "      }\n",
              "    </script>\n",
              "  </div>\n",
              "\n",
              "\n",
              "<div id=\"df-48acb852-538d-44a0-8529-7799a4fdbc02\">\n",
              "  <button class=\"colab-df-quickchart\" onclick=\"quickchart('df-48acb852-538d-44a0-8529-7799a4fdbc02')\"\n",
              "            title=\"Suggest charts\"\n",
              "            style=\"display:none;\">\n",
              "\n",
              "<svg xmlns=\"http://www.w3.org/2000/svg\" height=\"24px\"viewBox=\"0 0 24 24\"\n",
              "     width=\"24px\">\n",
              "    <g>\n",
              "        <path d=\"M19 3H5c-1.1 0-2 .9-2 2v14c0 1.1.9 2 2 2h14c1.1 0 2-.9 2-2V5c0-1.1-.9-2-2-2zM9 17H7v-7h2v7zm4 0h-2V7h2v10zm4 0h-2v-4h2v4z\"/>\n",
              "    </g>\n",
              "</svg>\n",
              "  </button>\n",
              "\n",
              "<style>\n",
              "  .colab-df-quickchart {\n",
              "      --bg-color: #E8F0FE;\n",
              "      --fill-color: #1967D2;\n",
              "      --hover-bg-color: #E2EBFA;\n",
              "      --hover-fill-color: #174EA6;\n",
              "      --disabled-fill-color: #AAA;\n",
              "      --disabled-bg-color: #DDD;\n",
              "  }\n",
              "\n",
              "  [theme=dark] .colab-df-quickchart {\n",
              "      --bg-color: #3B4455;\n",
              "      --fill-color: #D2E3FC;\n",
              "      --hover-bg-color: #434B5C;\n",
              "      --hover-fill-color: #FFFFFF;\n",
              "      --disabled-bg-color: #3B4455;\n",
              "      --disabled-fill-color: #666;\n",
              "  }\n",
              "\n",
              "  .colab-df-quickchart {\n",
              "    background-color: var(--bg-color);\n",
              "    border: none;\n",
              "    border-radius: 50%;\n",
              "    cursor: pointer;\n",
              "    display: none;\n",
              "    fill: var(--fill-color);\n",
              "    height: 32px;\n",
              "    padding: 0;\n",
              "    width: 32px;\n",
              "  }\n",
              "\n",
              "  .colab-df-quickchart:hover {\n",
              "    background-color: var(--hover-bg-color);\n",
              "    box-shadow: 0 1px 2px rgba(60, 64, 67, 0.3), 0 1px 3px 1px rgba(60, 64, 67, 0.15);\n",
              "    fill: var(--button-hover-fill-color);\n",
              "  }\n",
              "\n",
              "  .colab-df-quickchart-complete:disabled,\n",
              "  .colab-df-quickchart-complete:disabled:hover {\n",
              "    background-color: var(--disabled-bg-color);\n",
              "    fill: var(--disabled-fill-color);\n",
              "    box-shadow: none;\n",
              "  }\n",
              "\n",
              "  .colab-df-spinner {\n",
              "    border: 2px solid var(--fill-color);\n",
              "    border-color: transparent;\n",
              "    border-bottom-color: var(--fill-color);\n",
              "    animation:\n",
              "      spin 1s steps(1) infinite;\n",
              "  }\n",
              "\n",
              "  @keyframes spin {\n",
              "    0% {\n",
              "      border-color: transparent;\n",
              "      border-bottom-color: var(--fill-color);\n",
              "      border-left-color: var(--fill-color);\n",
              "    }\n",
              "    20% {\n",
              "      border-color: transparent;\n",
              "      border-left-color: var(--fill-color);\n",
              "      border-top-color: var(--fill-color);\n",
              "    }\n",
              "    30% {\n",
              "      border-color: transparent;\n",
              "      border-left-color: var(--fill-color);\n",
              "      border-top-color: var(--fill-color);\n",
              "      border-right-color: var(--fill-color);\n",
              "    }\n",
              "    40% {\n",
              "      border-color: transparent;\n",
              "      border-right-color: var(--fill-color);\n",
              "      border-top-color: var(--fill-color);\n",
              "    }\n",
              "    60% {\n",
              "      border-color: transparent;\n",
              "      border-right-color: var(--fill-color);\n",
              "    }\n",
              "    80% {\n",
              "      border-color: transparent;\n",
              "      border-right-color: var(--fill-color);\n",
              "      border-bottom-color: var(--fill-color);\n",
              "    }\n",
              "    90% {\n",
              "      border-color: transparent;\n",
              "      border-bottom-color: var(--fill-color);\n",
              "    }\n",
              "  }\n",
              "</style>\n",
              "\n",
              "  <script>\n",
              "    async function quickchart(key) {\n",
              "      const quickchartButtonEl =\n",
              "        document.querySelector('#' + key + ' button');\n",
              "      quickchartButtonEl.disabled = true;  // To prevent multiple clicks.\n",
              "      quickchartButtonEl.classList.add('colab-df-spinner');\n",
              "      try {\n",
              "        const charts = await google.colab.kernel.invokeFunction(\n",
              "            'suggestCharts', [key], {});\n",
              "      } catch (error) {\n",
              "        console.error('Error during call to suggestCharts:', error);\n",
              "      }\n",
              "      quickchartButtonEl.classList.remove('colab-df-spinner');\n",
              "      quickchartButtonEl.classList.add('colab-df-quickchart-complete');\n",
              "    }\n",
              "    (() => {\n",
              "      let quickchartButtonEl =\n",
              "        document.querySelector('#df-48acb852-538d-44a0-8529-7799a4fdbc02 button');\n",
              "      quickchartButtonEl.style.display =\n",
              "        google.colab.kernel.accessAllowed ? 'block' : 'none';\n",
              "    })();\n",
              "  </script>\n",
              "</div>\n",
              "\n",
              "    </div>\n",
              "  </div>\n"
            ],
            "application/vnd.google.colaboratory.intrinsic+json": {
              "type": "dataframe",
              "variable_name": "data",
              "summary": "{\n  \"name\": \"data\",\n  \"rows\": 5322,\n  \"fields\": [\n    {\n      \"column\": \"sentence\",\n      \"properties\": {\n        \"dtype\": \"string\",\n        \"num_unique_values\": 5256,\n        \"samples\": [\n          \"diageo sells ryder cup venue gleneagles hotel ennismore group\",\n          \"kndi china electriccar maker china car sales also may feed tsla momentum run lately\",\n          \"pharmaceuticals spain brand new market analysis gives clear overview actual situation future outlook pharmaceutical market spain\"\n        ],\n        \"semantic_type\": \"\",\n        \"description\": \"\"\n      }\n    },\n    {\n      \"column\": \"sentiment\",\n      \"properties\": {\n        \"dtype\": \"category\",\n        \"num_unique_values\": 3,\n        \"samples\": [\n          \"positive\",\n          \"negative\",\n          \"neutral\"\n        ],\n        \"semantic_type\": \"\",\n        \"description\": \"\"\n      }\n    }\n  ]\n}"
            }
          },
          "metadata": {},
          "execution_count": 19
        }
      ]
    },
    {
      "cell_type": "code",
      "source": [
        "data['sentence'] = data['sentence'].apply(lambda x: re.sub(r'\\s\\s*', \" \", x))"
      ],
      "metadata": {
        "id": "fOneIQ0Dkmdi"
      },
      "execution_count": null,
      "outputs": []
    },
    {
      "cell_type": "code",
      "source": [
        "data.replace('', np.nan, inplace=True)\n",
        "data.dropna(axis=0,inplace=True)"
      ],
      "metadata": {
        "id": "_Vyv4nS0kgpR"
      },
      "execution_count": null,
      "outputs": []
    },
    {
      "cell_type": "code",
      "source": [
        "data['sentence_len'] = data['sentence'].apply(lambda x: len(str(x).split()))\n",
        "val = max(data['sentence_len'].values)\n",
        "val"
      ],
      "metadata": {
        "colab": {
          "base_uri": "https://localhost:8080/"
        },
        "id": "_MxGqLyuk1Sx",
        "outputId": "dea28e36-588d-40bc-8835-5eb6e8612d2a"
      },
      "execution_count": null,
      "outputs": [
        {
          "output_type": "execute_result",
          "data": {
            "text/plain": [
              "41"
            ]
          },
          "metadata": {},
          "execution_count": 22
        }
      ]
    },
    {
      "cell_type": "code",
      "source": [
        "tokenizer = Tokenizer(num_words=500)\n",
        "tokenizer.fit_on_texts(data['sentence'])\n",
        "X = tokenizer.texts_to_sequences(data['sentence'])\n",
        "X = pad_sequences(X)"
      ],
      "metadata": {
        "id": "Si2wROuKrkRM"
      },
      "execution_count": null,
      "outputs": []
    },
    {
      "cell_type": "code",
      "source": [
        "X.shape"
      ],
      "metadata": {
        "colab": {
          "base_uri": "https://localhost:8080/"
        },
        "id": "EYfX7zEi7KEm",
        "outputId": "b3447d5d-987f-4c80-f203-6d31d8877847"
      },
      "execution_count": null,
      "outputs": [
        {
          "output_type": "execute_result",
          "data": {
            "text/plain": [
              "(5319, 31)"
            ]
          },
          "metadata": {},
          "execution_count": 24
        }
      ]
    },
    {
      "cell_type": "code",
      "source": [
        "label = {'positive':0,'neutral':1,'negative':2}\n",
        "data['sentiment'] = data['sentiment'].apply(lambda x:label[x])\n",
        "data.head()"
      ],
      "metadata": {
        "colab": {
          "base_uri": "https://localhost:8080/",
          "height": 206
        },
        "id": "umLNtuGTv_8E",
        "outputId": "90e24045-9368-4373-b1a8-097d09a53baa"
      },
      "execution_count": null,
      "outputs": [
        {
          "output_type": "execute_result",
          "data": {
            "text/plain": [
              "                                            sentence  sentiment  sentence_len\n",
              "1  geosolutions technology leverage benefon gps s...          0            21\n",
              "2                       esi lows bk real possibility          2             5\n",
              "3  last quarter componenta net sales doubled eur ...          0            20\n",
              "4  according finnish russian chamber commerce maj...          1            11\n",
              "5  swedish buyout firm sold remaining percent sta...          1            14"
            ],
            "text/html": [
              "\n",
              "  <div id=\"df-fe5ac213-ab15-499f-98ba-4f7dc565727e\" class=\"colab-df-container\">\n",
              "    <div>\n",
              "<style scoped>\n",
              "    .dataframe tbody tr th:only-of-type {\n",
              "        vertical-align: middle;\n",
              "    }\n",
              "\n",
              "    .dataframe tbody tr th {\n",
              "        vertical-align: top;\n",
              "    }\n",
              "\n",
              "    .dataframe thead th {\n",
              "        text-align: right;\n",
              "    }\n",
              "</style>\n",
              "<table border=\"1\" class=\"dataframe\">\n",
              "  <thead>\n",
              "    <tr style=\"text-align: right;\">\n",
              "      <th></th>\n",
              "      <th>sentence</th>\n",
              "      <th>sentiment</th>\n",
              "      <th>sentence_len</th>\n",
              "    </tr>\n",
              "  </thead>\n",
              "  <tbody>\n",
              "    <tr>\n",
              "      <th>1</th>\n",
              "      <td>geosolutions technology leverage benefon gps s...</td>\n",
              "      <td>0</td>\n",
              "      <td>21</td>\n",
              "    </tr>\n",
              "    <tr>\n",
              "      <th>2</th>\n",
              "      <td>esi lows bk real possibility</td>\n",
              "      <td>2</td>\n",
              "      <td>5</td>\n",
              "    </tr>\n",
              "    <tr>\n",
              "      <th>3</th>\n",
              "      <td>last quarter componenta net sales doubled eur ...</td>\n",
              "      <td>0</td>\n",
              "      <td>20</td>\n",
              "    </tr>\n",
              "    <tr>\n",
              "      <th>4</th>\n",
              "      <td>according finnish russian chamber commerce maj...</td>\n",
              "      <td>1</td>\n",
              "      <td>11</td>\n",
              "    </tr>\n",
              "    <tr>\n",
              "      <th>5</th>\n",
              "      <td>swedish buyout firm sold remaining percent sta...</td>\n",
              "      <td>1</td>\n",
              "      <td>14</td>\n",
              "    </tr>\n",
              "  </tbody>\n",
              "</table>\n",
              "</div>\n",
              "    <div class=\"colab-df-buttons\">\n",
              "\n",
              "  <div class=\"colab-df-container\">\n",
              "    <button class=\"colab-df-convert\" onclick=\"convertToInteractive('df-fe5ac213-ab15-499f-98ba-4f7dc565727e')\"\n",
              "            title=\"Convert this dataframe to an interactive table.\"\n",
              "            style=\"display:none;\">\n",
              "\n",
              "  <svg xmlns=\"http://www.w3.org/2000/svg\" height=\"24px\" viewBox=\"0 -960 960 960\">\n",
              "    <path d=\"M120-120v-720h720v720H120Zm60-500h600v-160H180v160Zm220 220h160v-160H400v160Zm0 220h160v-160H400v160ZM180-400h160v-160H180v160Zm440 0h160v-160H620v160ZM180-180h160v-160H180v160Zm440 0h160v-160H620v160Z\"/>\n",
              "  </svg>\n",
              "    </button>\n",
              "\n",
              "  <style>\n",
              "    .colab-df-container {\n",
              "      display:flex;\n",
              "      gap: 12px;\n",
              "    }\n",
              "\n",
              "    .colab-df-convert {\n",
              "      background-color: #E8F0FE;\n",
              "      border: none;\n",
              "      border-radius: 50%;\n",
              "      cursor: pointer;\n",
              "      display: none;\n",
              "      fill: #1967D2;\n",
              "      height: 32px;\n",
              "      padding: 0 0 0 0;\n",
              "      width: 32px;\n",
              "    }\n",
              "\n",
              "    .colab-df-convert:hover {\n",
              "      background-color: #E2EBFA;\n",
              "      box-shadow: 0px 1px 2px rgba(60, 64, 67, 0.3), 0px 1px 3px 1px rgba(60, 64, 67, 0.15);\n",
              "      fill: #174EA6;\n",
              "    }\n",
              "\n",
              "    .colab-df-buttons div {\n",
              "      margin-bottom: 4px;\n",
              "    }\n",
              "\n",
              "    [theme=dark] .colab-df-convert {\n",
              "      background-color: #3B4455;\n",
              "      fill: #D2E3FC;\n",
              "    }\n",
              "\n",
              "    [theme=dark] .colab-df-convert:hover {\n",
              "      background-color: #434B5C;\n",
              "      box-shadow: 0px 1px 3px 1px rgba(0, 0, 0, 0.15);\n",
              "      filter: drop-shadow(0px 1px 2px rgba(0, 0, 0, 0.3));\n",
              "      fill: #FFFFFF;\n",
              "    }\n",
              "  </style>\n",
              "\n",
              "    <script>\n",
              "      const buttonEl =\n",
              "        document.querySelector('#df-fe5ac213-ab15-499f-98ba-4f7dc565727e button.colab-df-convert');\n",
              "      buttonEl.style.display =\n",
              "        google.colab.kernel.accessAllowed ? 'block' : 'none';\n",
              "\n",
              "      async function convertToInteractive(key) {\n",
              "        const element = document.querySelector('#df-fe5ac213-ab15-499f-98ba-4f7dc565727e');\n",
              "        const dataTable =\n",
              "          await google.colab.kernel.invokeFunction('convertToInteractive',\n",
              "                                                    [key], {});\n",
              "        if (!dataTable) return;\n",
              "\n",
              "        const docLinkHtml = 'Like what you see? Visit the ' +\n",
              "          '<a target=\"_blank\" href=https://colab.research.google.com/notebooks/data_table.ipynb>data table notebook</a>'\n",
              "          + ' to learn more about interactive tables.';\n",
              "        element.innerHTML = '';\n",
              "        dataTable['output_type'] = 'display_data';\n",
              "        await google.colab.output.renderOutput(dataTable, element);\n",
              "        const docLink = document.createElement('div');\n",
              "        docLink.innerHTML = docLinkHtml;\n",
              "        element.appendChild(docLink);\n",
              "      }\n",
              "    </script>\n",
              "  </div>\n",
              "\n",
              "\n",
              "<div id=\"df-c2f9c52e-d9fd-486d-81b9-9781dc17e9b1\">\n",
              "  <button class=\"colab-df-quickchart\" onclick=\"quickchart('df-c2f9c52e-d9fd-486d-81b9-9781dc17e9b1')\"\n",
              "            title=\"Suggest charts\"\n",
              "            style=\"display:none;\">\n",
              "\n",
              "<svg xmlns=\"http://www.w3.org/2000/svg\" height=\"24px\"viewBox=\"0 0 24 24\"\n",
              "     width=\"24px\">\n",
              "    <g>\n",
              "        <path d=\"M19 3H5c-1.1 0-2 .9-2 2v14c0 1.1.9 2 2 2h14c1.1 0 2-.9 2-2V5c0-1.1-.9-2-2-2zM9 17H7v-7h2v7zm4 0h-2V7h2v10zm4 0h-2v-4h2v4z\"/>\n",
              "    </g>\n",
              "</svg>\n",
              "  </button>\n",
              "\n",
              "<style>\n",
              "  .colab-df-quickchart {\n",
              "      --bg-color: #E8F0FE;\n",
              "      --fill-color: #1967D2;\n",
              "      --hover-bg-color: #E2EBFA;\n",
              "      --hover-fill-color: #174EA6;\n",
              "      --disabled-fill-color: #AAA;\n",
              "      --disabled-bg-color: #DDD;\n",
              "  }\n",
              "\n",
              "  [theme=dark] .colab-df-quickchart {\n",
              "      --bg-color: #3B4455;\n",
              "      --fill-color: #D2E3FC;\n",
              "      --hover-bg-color: #434B5C;\n",
              "      --hover-fill-color: #FFFFFF;\n",
              "      --disabled-bg-color: #3B4455;\n",
              "      --disabled-fill-color: #666;\n",
              "  }\n",
              "\n",
              "  .colab-df-quickchart {\n",
              "    background-color: var(--bg-color);\n",
              "    border: none;\n",
              "    border-radius: 50%;\n",
              "    cursor: pointer;\n",
              "    display: none;\n",
              "    fill: var(--fill-color);\n",
              "    height: 32px;\n",
              "    padding: 0;\n",
              "    width: 32px;\n",
              "  }\n",
              "\n",
              "  .colab-df-quickchart:hover {\n",
              "    background-color: var(--hover-bg-color);\n",
              "    box-shadow: 0 1px 2px rgba(60, 64, 67, 0.3), 0 1px 3px 1px rgba(60, 64, 67, 0.15);\n",
              "    fill: var(--button-hover-fill-color);\n",
              "  }\n",
              "\n",
              "  .colab-df-quickchart-complete:disabled,\n",
              "  .colab-df-quickchart-complete:disabled:hover {\n",
              "    background-color: var(--disabled-bg-color);\n",
              "    fill: var(--disabled-fill-color);\n",
              "    box-shadow: none;\n",
              "  }\n",
              "\n",
              "  .colab-df-spinner {\n",
              "    border: 2px solid var(--fill-color);\n",
              "    border-color: transparent;\n",
              "    border-bottom-color: var(--fill-color);\n",
              "    animation:\n",
              "      spin 1s steps(1) infinite;\n",
              "  }\n",
              "\n",
              "  @keyframes spin {\n",
              "    0% {\n",
              "      border-color: transparent;\n",
              "      border-bottom-color: var(--fill-color);\n",
              "      border-left-color: var(--fill-color);\n",
              "    }\n",
              "    20% {\n",
              "      border-color: transparent;\n",
              "      border-left-color: var(--fill-color);\n",
              "      border-top-color: var(--fill-color);\n",
              "    }\n",
              "    30% {\n",
              "      border-color: transparent;\n",
              "      border-left-color: var(--fill-color);\n",
              "      border-top-color: var(--fill-color);\n",
              "      border-right-color: var(--fill-color);\n",
              "    }\n",
              "    40% {\n",
              "      border-color: transparent;\n",
              "      border-right-color: var(--fill-color);\n",
              "      border-top-color: var(--fill-color);\n",
              "    }\n",
              "    60% {\n",
              "      border-color: transparent;\n",
              "      border-right-color: var(--fill-color);\n",
              "    }\n",
              "    80% {\n",
              "      border-color: transparent;\n",
              "      border-right-color: var(--fill-color);\n",
              "      border-bottom-color: var(--fill-color);\n",
              "    }\n",
              "    90% {\n",
              "      border-color: transparent;\n",
              "      border-bottom-color: var(--fill-color);\n",
              "    }\n",
              "  }\n",
              "</style>\n",
              "\n",
              "  <script>\n",
              "    async function quickchart(key) {\n",
              "      const quickchartButtonEl =\n",
              "        document.querySelector('#' + key + ' button');\n",
              "      quickchartButtonEl.disabled = true;  // To prevent multiple clicks.\n",
              "      quickchartButtonEl.classList.add('colab-df-spinner');\n",
              "      try {\n",
              "        const charts = await google.colab.kernel.invokeFunction(\n",
              "            'suggestCharts', [key], {});\n",
              "      } catch (error) {\n",
              "        console.error('Error during call to suggestCharts:', error);\n",
              "      }\n",
              "      quickchartButtonEl.classList.remove('colab-df-spinner');\n",
              "      quickchartButtonEl.classList.add('colab-df-quickchart-complete');\n",
              "    }\n",
              "    (() => {\n",
              "      let quickchartButtonEl =\n",
              "        document.querySelector('#df-c2f9c52e-d9fd-486d-81b9-9781dc17e9b1 button');\n",
              "      quickchartButtonEl.style.display =\n",
              "        google.colab.kernel.accessAllowed ? 'block' : 'none';\n",
              "    })();\n",
              "  </script>\n",
              "</div>\n",
              "\n",
              "    </div>\n",
              "  </div>\n"
            ],
            "application/vnd.google.colaboratory.intrinsic+json": {
              "type": "dataframe",
              "variable_name": "data",
              "summary": "{\n  \"name\": \"data\",\n  \"rows\": 5319,\n  \"fields\": [\n    {\n      \"column\": \"sentence\",\n      \"properties\": {\n        \"dtype\": \"string\",\n        \"num_unique_values\": 5255,\n        \"samples\": [\n          \"aapl weekly still moving average creating lower high https co vt ppzy uy\",\n          \"net profit mln compared mln\",\n          \"pharmaceuticals spain brand new market analysis gives clear overview actual situation future outlook pharmaceutical market spain\"\n        ],\n        \"semantic_type\": \"\",\n        \"description\": \"\"\n      }\n    },\n    {\n      \"column\": \"sentiment\",\n      \"properties\": {\n        \"dtype\": \"number\",\n        \"std\": 0,\n        \"min\": 0,\n        \"max\": 2,\n        \"num_unique_values\": 3,\n        \"samples\": [\n          0,\n          2,\n          1\n        ],\n        \"semantic_type\": \"\",\n        \"description\": \"\"\n      }\n    },\n    {\n      \"column\": \"sentence_len\",\n      \"properties\": {\n        \"dtype\": \"number\",\n        \"std\": 5,\n        \"min\": 1,\n        \"max\": 41,\n        \"num_unique_values\": 34,\n        \"samples\": [\n          1,\n          2,\n          30\n        ],\n        \"semantic_type\": \"\",\n        \"description\": \"\"\n      }\n    }\n  ]\n}"
            }
          },
          "metadata": {},
          "execution_count": 25
        }
      ]
    },
    {
      "cell_type": "code",
      "source": [
        "X_train, X_val, y_train, y_val = train_test_split(X,data['sentiment'],test_size=0.25,random_state=21)"
      ],
      "metadata": {
        "id": "WPciYi3eu1qa"
      },
      "execution_count": null,
      "outputs": []
    },
    {
      "cell_type": "code",
      "source": [
        "X_train[0]"
      ],
      "metadata": {
        "colab": {
          "base_uri": "https://localhost:8080/"
        },
        "id": "GbZuFz84yLag",
        "outputId": "65967e15-0b2d-4df0-95d6-f752c35e90e0"
      },
      "execution_count": null,
      "outputs": [
        {
          "output_type": "execute_result",
          "data": {
            "text/plain": [
              "array([  0,   0,   0,   0,   0,   0,   0,   0,   0,   0,   0,   0,   0,\n",
              "         0,   0,   0,   0,   0,   0,   0,  14,   7,   9,   4, 156,  18,\n",
              "        56, 492,   1,   1,  31], dtype=int32)"
            ]
          },
          "metadata": {},
          "execution_count": 27
        }
      ]
    },
    {
      "cell_type": "code",
      "source": [
        "model = Sequential([\n",
        "    Input(shape=(31,)),\n",
        "    Embedding(500,120),\n",
        "    SpatialDropout1D(0.4),\n",
        "    LSTM(784, dropout=0.3, recurrent_dropout=0.3),\n",
        "    Dense(300, activation=\"relu\"),\n",
        "    Dense(3, activation=\"softmax\")\n",
        "])"
      ],
      "metadata": {
        "id": "Z6xAzE4UxOZW"
      },
      "execution_count": null,
      "outputs": []
    },
    {
      "cell_type": "code",
      "source": [
        "model.compile(\n",
        "    optimizer = \"rmsprop\",\n",
        "    loss = \"sparse_categorical_crossentropy\",\n",
        "    metrics = ['accuracy']\n",
        ")"
      ],
      "metadata": {
        "id": "xTJKAGtV1Bzb"
      },
      "execution_count": null,
      "outputs": []
    },
    {
      "cell_type": "code",
      "source": [
        "model.summary()"
      ],
      "metadata": {
        "colab": {
          "base_uri": "https://localhost:8080/",
          "height": 305
        },
        "id": "JhpdEpOt2L6j",
        "outputId": "182b4bf9-b2b1-43a4-fb59-43561ca1827d"
      },
      "execution_count": null,
      "outputs": [
        {
          "output_type": "display_data",
          "data": {
            "text/plain": [
              "\u001b[1mModel: \"sequential_3\"\u001b[0m\n"
            ],
            "text/html": [
              "<pre style=\"white-space:pre;overflow-x:auto;line-height:normal;font-family:Menlo,'DejaVu Sans Mono',consolas,'Courier New',monospace\"><span style=\"font-weight: bold\">Model: \"sequential_3\"</span>\n",
              "</pre>\n"
            ]
          },
          "metadata": {}
        },
        {
          "output_type": "display_data",
          "data": {
            "text/plain": [
              "┏━━━━━━━━━━━━━━━━━━━━━━━━━━━━━━━━━━━━━━┳━━━━━━━━━━━━━━━━━━━━━━━━━━━━━┳━━━━━━━━━━━━━━━━━┓\n",
              "┃\u001b[1m \u001b[0m\u001b[1mLayer (type)                        \u001b[0m\u001b[1m \u001b[0m┃\u001b[1m \u001b[0m\u001b[1mOutput Shape               \u001b[0m\u001b[1m \u001b[0m┃\u001b[1m \u001b[0m\u001b[1m        Param #\u001b[0m\u001b[1m \u001b[0m┃\n",
              "┡━━━━━━━━━━━━━━━━━━━━━━━━━━━━━━━━━━━━━━╇━━━━━━━━━━━━━━━━━━━━━━━━━━━━━╇━━━━━━━━━━━━━━━━━┩\n",
              "│ embedding_3 (\u001b[38;5;33mEmbedding\u001b[0m)              │ (\u001b[38;5;45mNone\u001b[0m, \u001b[38;5;34m31\u001b[0m, \u001b[38;5;34m120\u001b[0m)             │          \u001b[38;5;34m60,000\u001b[0m │\n",
              "├──────────────────────────────────────┼─────────────────────────────┼─────────────────┤\n",
              "│ spatial_dropout1d_3                  │ (\u001b[38;5;45mNone\u001b[0m, \u001b[38;5;34m31\u001b[0m, \u001b[38;5;34m120\u001b[0m)             │               \u001b[38;5;34m0\u001b[0m │\n",
              "│ (\u001b[38;5;33mSpatialDropout1D\u001b[0m)                   │                             │                 │\n",
              "├──────────────────────────────────────┼─────────────────────────────┼─────────────────┤\n",
              "│ lstm_3 (\u001b[38;5;33mLSTM\u001b[0m)                        │ (\u001b[38;5;45mNone\u001b[0m, \u001b[38;5;34m784\u001b[0m)                 │       \u001b[38;5;34m2,838,080\u001b[0m │\n",
              "├──────────────────────────────────────┼─────────────────────────────┼─────────────────┤\n",
              "│ dense_6 (\u001b[38;5;33mDense\u001b[0m)                      │ (\u001b[38;5;45mNone\u001b[0m, \u001b[38;5;34m300\u001b[0m)                 │         \u001b[38;5;34m235,500\u001b[0m │\n",
              "├──────────────────────────────────────┼─────────────────────────────┼─────────────────┤\n",
              "│ dense_7 (\u001b[38;5;33mDense\u001b[0m)                      │ (\u001b[38;5;45mNone\u001b[0m, \u001b[38;5;34m3\u001b[0m)                   │             \u001b[38;5;34m903\u001b[0m │\n",
              "└──────────────────────────────────────┴─────────────────────────────┴─────────────────┘\n"
            ],
            "text/html": [
              "<pre style=\"white-space:pre;overflow-x:auto;line-height:normal;font-family:Menlo,'DejaVu Sans Mono',consolas,'Courier New',monospace\">┏━━━━━━━━━━━━━━━━━━━━━━━━━━━━━━━━━━━━━━┳━━━━━━━━━━━━━━━━━━━━━━━━━━━━━┳━━━━━━━━━━━━━━━━━┓\n",
              "┃<span style=\"font-weight: bold\"> Layer (type)                         </span>┃<span style=\"font-weight: bold\"> Output Shape                </span>┃<span style=\"font-weight: bold\">         Param # </span>┃\n",
              "┡━━━━━━━━━━━━━━━━━━━━━━━━━━━━━━━━━━━━━━╇━━━━━━━━━━━━━━━━━━━━━━━━━━━━━╇━━━━━━━━━━━━━━━━━┩\n",
              "│ embedding_3 (<span style=\"color: #0087ff; text-decoration-color: #0087ff\">Embedding</span>)              │ (<span style=\"color: #00d7ff; text-decoration-color: #00d7ff\">None</span>, <span style=\"color: #00af00; text-decoration-color: #00af00\">31</span>, <span style=\"color: #00af00; text-decoration-color: #00af00\">120</span>)             │          <span style=\"color: #00af00; text-decoration-color: #00af00\">60,000</span> │\n",
              "├──────────────────────────────────────┼─────────────────────────────┼─────────────────┤\n",
              "│ spatial_dropout1d_3                  │ (<span style=\"color: #00d7ff; text-decoration-color: #00d7ff\">None</span>, <span style=\"color: #00af00; text-decoration-color: #00af00\">31</span>, <span style=\"color: #00af00; text-decoration-color: #00af00\">120</span>)             │               <span style=\"color: #00af00; text-decoration-color: #00af00\">0</span> │\n",
              "│ (<span style=\"color: #0087ff; text-decoration-color: #0087ff\">SpatialDropout1D</span>)                   │                             │                 │\n",
              "├──────────────────────────────────────┼─────────────────────────────┼─────────────────┤\n",
              "│ lstm_3 (<span style=\"color: #0087ff; text-decoration-color: #0087ff\">LSTM</span>)                        │ (<span style=\"color: #00d7ff; text-decoration-color: #00d7ff\">None</span>, <span style=\"color: #00af00; text-decoration-color: #00af00\">784</span>)                 │       <span style=\"color: #00af00; text-decoration-color: #00af00\">2,838,080</span> │\n",
              "├──────────────────────────────────────┼─────────────────────────────┼─────────────────┤\n",
              "│ dense_6 (<span style=\"color: #0087ff; text-decoration-color: #0087ff\">Dense</span>)                      │ (<span style=\"color: #00d7ff; text-decoration-color: #00d7ff\">None</span>, <span style=\"color: #00af00; text-decoration-color: #00af00\">300</span>)                 │         <span style=\"color: #00af00; text-decoration-color: #00af00\">235,500</span> │\n",
              "├──────────────────────────────────────┼─────────────────────────────┼─────────────────┤\n",
              "│ dense_7 (<span style=\"color: #0087ff; text-decoration-color: #0087ff\">Dense</span>)                      │ (<span style=\"color: #00d7ff; text-decoration-color: #00d7ff\">None</span>, <span style=\"color: #00af00; text-decoration-color: #00af00\">3</span>)                   │             <span style=\"color: #00af00; text-decoration-color: #00af00\">903</span> │\n",
              "└──────────────────────────────────────┴─────────────────────────────┴─────────────────┘\n",
              "</pre>\n"
            ]
          },
          "metadata": {}
        },
        {
          "output_type": "display_data",
          "data": {
            "text/plain": [
              "\u001b[1m Total params: \u001b[0m\u001b[38;5;34m3,134,483\u001b[0m (11.96 MB)\n"
            ],
            "text/html": [
              "<pre style=\"white-space:pre;overflow-x:auto;line-height:normal;font-family:Menlo,'DejaVu Sans Mono',consolas,'Courier New',monospace\"><span style=\"font-weight: bold\"> Total params: </span><span style=\"color: #00af00; text-decoration-color: #00af00\">3,134,483</span> (11.96 MB)\n",
              "</pre>\n"
            ]
          },
          "metadata": {}
        },
        {
          "output_type": "display_data",
          "data": {
            "text/plain": [
              "\u001b[1m Trainable params: \u001b[0m\u001b[38;5;34m3,134,483\u001b[0m (11.96 MB)\n"
            ],
            "text/html": [
              "<pre style=\"white-space:pre;overflow-x:auto;line-height:normal;font-family:Menlo,'DejaVu Sans Mono',consolas,'Courier New',monospace\"><span style=\"font-weight: bold\"> Trainable params: </span><span style=\"color: #00af00; text-decoration-color: #00af00\">3,134,483</span> (11.96 MB)\n",
              "</pre>\n"
            ]
          },
          "metadata": {}
        },
        {
          "output_type": "display_data",
          "data": {
            "text/plain": [
              "\u001b[1m Non-trainable params: \u001b[0m\u001b[38;5;34m0\u001b[0m (0.00 B)\n"
            ],
            "text/html": [
              "<pre style=\"white-space:pre;overflow-x:auto;line-height:normal;font-family:Menlo,'DejaVu Sans Mono',consolas,'Courier New',monospace\"><span style=\"font-weight: bold\"> Non-trainable params: </span><span style=\"color: #00af00; text-decoration-color: #00af00\">0</span> (0.00 B)\n",
              "</pre>\n"
            ]
          },
          "metadata": {}
        }
      ]
    },
    {
      "cell_type": "code",
      "source": [
        "model.fit(X_train, y_train, epochs = 20)"
      ],
      "metadata": {
        "colab": {
          "base_uri": "https://localhost:8080/"
        },
        "id": "DfPF1ocn2Oqo",
        "outputId": "e28d220c-e97c-47b7-8eaa-91a572cb2fbf"
      },
      "execution_count": null,
      "outputs": [
        {
          "output_type": "stream",
          "name": "stdout",
          "text": [
            "Epoch 1/20\n",
            "\u001b[1m125/125\u001b[0m \u001b[32m━━━━━━━━━━━━━━━━━━━━\u001b[0m\u001b[37m\u001b[0m \u001b[1m10s\u001b[0m 68ms/step - accuracy: 0.5234 - loss: 1.0546\n",
            "Epoch 2/20\n",
            "\u001b[1m125/125\u001b[0m \u001b[32m━━━━━━━━━━━━━━━━━━━━\u001b[0m\u001b[37m\u001b[0m \u001b[1m7s\u001b[0m 56ms/step - accuracy: 0.6212 - loss: 0.8373\n",
            "Epoch 3/20\n",
            "\u001b[1m125/125\u001b[0m \u001b[32m━━━━━━━━━━━━━━━━━━━━\u001b[0m\u001b[37m\u001b[0m \u001b[1m10s\u001b[0m 56ms/step - accuracy: 0.6676 - loss: 0.7514\n",
            "Epoch 4/20\n",
            "\u001b[1m125/125\u001b[0m \u001b[32m━━━━━━━━━━━━━━━━━━━━\u001b[0m\u001b[37m\u001b[0m \u001b[1m11s\u001b[0m 58ms/step - accuracy: 0.6863 - loss: 0.7577\n",
            "Epoch 5/20\n",
            "\u001b[1m125/125\u001b[0m \u001b[32m━━━━━━━━━━━━━━━━━━━━\u001b[0m\u001b[37m\u001b[0m \u001b[1m9s\u001b[0m 70ms/step - accuracy: 0.7025 - loss: 0.6814\n",
            "Epoch 6/20\n",
            "\u001b[1m125/125\u001b[0m \u001b[32m━━━━━━━━━━━━━━━━━━━━\u001b[0m\u001b[37m\u001b[0m \u001b[1m7s\u001b[0m 57ms/step - accuracy: 0.7148 - loss: 0.7010\n",
            "Epoch 7/20\n",
            "\u001b[1m125/125\u001b[0m \u001b[32m━━━━━━━━━━━━━━━━━━━━\u001b[0m\u001b[37m\u001b[0m \u001b[1m9s\u001b[0m 68ms/step - accuracy: 0.7359 - loss: 0.6324\n",
            "Epoch 8/20\n",
            "\u001b[1m125/125\u001b[0m \u001b[32m━━━━━━━━━━━━━━━━━━━━\u001b[0m\u001b[37m\u001b[0m \u001b[1m9s\u001b[0m 68ms/step - accuracy: 0.7419 - loss: 0.6182\n",
            "Epoch 9/20\n",
            "\u001b[1m125/125\u001b[0m \u001b[32m━━━━━━━━━━━━━━━━━━━━\u001b[0m\u001b[37m\u001b[0m \u001b[1m7s\u001b[0m 56ms/step - accuracy: 0.7493 - loss: 0.6061\n",
            "Epoch 10/20\n",
            "\u001b[1m125/125\u001b[0m \u001b[32m━━━━━━━━━━━━━━━━━━━━\u001b[0m\u001b[37m\u001b[0m \u001b[1m9s\u001b[0m 68ms/step - accuracy: 0.7454 - loss: 0.6018\n",
            "Epoch 11/20\n",
            "\u001b[1m125/125\u001b[0m \u001b[32m━━━━━━━━━━━━━━━━━━━━\u001b[0m\u001b[37m\u001b[0m \u001b[1m8s\u001b[0m 64ms/step - accuracy: 0.7510 - loss: 0.5945\n",
            "Epoch 12/20\n",
            "\u001b[1m125/125\u001b[0m \u001b[32m━━━━━━━━━━━━━━━━━━━━\u001b[0m\u001b[37m\u001b[0m \u001b[1m9s\u001b[0m 57ms/step - accuracy: 0.7631 - loss: 0.5610\n",
            "Epoch 13/20\n",
            "\u001b[1m125/125\u001b[0m \u001b[32m━━━━━━━━━━━━━━━━━━━━\u001b[0m\u001b[37m\u001b[0m \u001b[1m10s\u001b[0m 57ms/step - accuracy: 0.7722 - loss: 0.5608\n",
            "Epoch 14/20\n",
            "\u001b[1m125/125\u001b[0m \u001b[32m━━━━━━━━━━━━━━━━━━━━\u001b[0m\u001b[37m\u001b[0m \u001b[1m11s\u001b[0m 65ms/step - accuracy: 0.7678 - loss: 0.5479\n",
            "Epoch 15/20\n",
            "\u001b[1m125/125\u001b[0m \u001b[32m━━━━━━━━━━━━━━━━━━━━\u001b[0m\u001b[37m\u001b[0m \u001b[1m10s\u001b[0m 68ms/step - accuracy: 0.7800 - loss: 0.5430\n",
            "Epoch 16/20\n",
            "\u001b[1m125/125\u001b[0m \u001b[32m━━━━━━━━━━━━━━━━━━━━\u001b[0m\u001b[37m\u001b[0m \u001b[1m10s\u001b[0m 67ms/step - accuracy: 0.7798 - loss: 0.5424\n",
            "Epoch 17/20\n",
            "\u001b[1m125/125\u001b[0m \u001b[32m━━━━━━━━━━━━━━━━━━━━\u001b[0m\u001b[37m\u001b[0m \u001b[1m9s\u001b[0m 58ms/step - accuracy: 0.7862 - loss: 0.5160\n",
            "Epoch 18/20\n",
            "\u001b[1m125/125\u001b[0m \u001b[32m━━━━━━━━━━━━━━━━━━━━\u001b[0m\u001b[37m\u001b[0m \u001b[1m10s\u001b[0m 58ms/step - accuracy: 0.7899 - loss: 0.4989\n",
            "Epoch 19/20\n",
            "\u001b[1m125/125\u001b[0m \u001b[32m━━━━━━━━━━━━━━━━━━━━\u001b[0m\u001b[37m\u001b[0m \u001b[1m10s\u001b[0m 56ms/step - accuracy: 0.7838 - loss: 0.5002\n",
            "Epoch 20/20\n",
            "\u001b[1m125/125\u001b[0m \u001b[32m━━━━━━━━━━━━━━━━━━━━\u001b[0m\u001b[37m\u001b[0m \u001b[1m9s\u001b[0m 69ms/step - accuracy: 0.7865 - loss: 0.5136\n"
          ]
        },
        {
          "output_type": "execute_result",
          "data": {
            "text/plain": [
              "<keras.src.callbacks.history.History at 0x7d8e4fa77760>"
            ]
          },
          "metadata": {},
          "execution_count": 46
        }
      ]
    },
    {
      "cell_type": "code",
      "source": [
        "model.evaluate(X_val,y_val)"
      ],
      "metadata": {
        "colab": {
          "base_uri": "https://localhost:8080/"
        },
        "id": "9W83Ztrs21D_",
        "outputId": "6d6f692b-e5ff-4544-961d-dc647635d30f"
      },
      "execution_count": null,
      "outputs": [
        {
          "output_type": "stream",
          "name": "stdout",
          "text": [
            "\u001b[1m42/42\u001b[0m \u001b[32m━━━━━━━━━━━━━━━━━━━━\u001b[0m\u001b[37m\u001b[0m \u001b[1m1s\u001b[0m 16ms/step - accuracy: 0.7154 - loss: 0.7640\n"
          ]
        },
        {
          "output_type": "execute_result",
          "data": {
            "text/plain": [
              "[0.8085481524467468, 0.704511284828186]"
            ]
          },
          "metadata": {},
          "execution_count": 47
        }
      ]
    },
    {
      "cell_type": "code",
      "source": [
        "model.evaluate(X_val,y_val)"
      ],
      "metadata": {
        "colab": {
          "base_uri": "https://localhost:8080/"
        },
        "id": "4OnWa4ewyceE",
        "outputId": "f8dd5c6f-f98b-4794-f690-1bfe2469b733"
      },
      "execution_count": null,
      "outputs": [
        {
          "output_type": "stream",
          "name": "stdout",
          "text": [
            "\u001b[1m42/42\u001b[0m \u001b[32m━━━━━━━━━━━━━━━━━━━━\u001b[0m\u001b[37m\u001b[0m \u001b[1m2s\u001b[0m 24ms/step - accuracy: 0.7046 - loss: 0.7616\n"
          ]
        },
        {
          "output_type": "execute_result",
          "data": {
            "text/plain": [
              "[0.8029329776763916, 0.699999988079071]"
            ]
          },
          "metadata": {},
          "execution_count": 37
        }
      ]
    },
    {
      "cell_type": "code",
      "source": [
        "y_pred = model.predict(X_val)"
      ],
      "metadata": {
        "colab": {
          "base_uri": "https://localhost:8080/"
        },
        "id": "q7Q4v0RXzNWO",
        "outputId": "a5b91e91-96dc-4d23-b0ce-af78b6a956b3"
      },
      "execution_count": null,
      "outputs": [
        {
          "output_type": "stream",
          "name": "stdout",
          "text": [
            "\u001b[1m42/42\u001b[0m \u001b[32m━━━━━━━━━━━━━━━━━━━━\u001b[0m\u001b[37m\u001b[0m \u001b[1m1s\u001b[0m 15ms/step\n"
          ]
        }
      ]
    },
    {
      "cell_type": "code",
      "source": [
        "y_classes = [np.argmax(x) for x in y_pred]"
      ],
      "metadata": {
        "id": "P8W77Ys72JGp"
      },
      "execution_count": null,
      "outputs": []
    },
    {
      "cell_type": "code",
      "source": [
        "print(classification_report(y_val,y_classes))"
      ],
      "metadata": {
        "colab": {
          "base_uri": "https://localhost:8080/"
        },
        "id": "6NjnhCri2gJr",
        "outputId": "69db75a9-790c-4d67-c8b8-a373bc728038"
      },
      "execution_count": null,
      "outputs": [
        {
          "output_type": "stream",
          "name": "stdout",
          "text": [
            "              precision    recall  f1-score   support\n",
            "\n",
            "           0       0.72      0.61      0.66       469\n",
            "           1       0.71      0.87      0.78       712\n",
            "           2       0.56      0.20      0.30       149\n",
            "\n",
            "    accuracy                           0.70      1330\n",
            "   macro avg       0.66      0.56      0.58      1330\n",
            "weighted avg       0.69      0.70      0.68      1330\n",
            "\n"
          ]
        }
      ]
    },
    {
      "cell_type": "markdown",
      "source": [
        "To be Continued to increase the f1-score of class 2 to increase the overall accuracy."
      ],
      "metadata": {
        "id": "p57-npAW4Cko"
      }
    },
    {
      "cell_type": "markdown",
      "source": [
        "# **Transformer Application**"
      ],
      "metadata": {
        "id": "dJNHGSkb5rm6"
      }
    },
    {
      "cell_type": "code",
      "source": [
        "import numpy as np\n",
        "import pandas as pd\n",
        "data = pd.read_csv(\"/content/data.csv\", names=[\"sentence\",\"sentiment\"])[1:]"
      ],
      "metadata": {
        "id": "opiSnyDJSXVJ"
      },
      "execution_count": 1,
      "outputs": []
    },
    {
      "cell_type": "code",
      "source": [
        "reviews = data[:300]"
      ],
      "metadata": {
        "id": "ViyjuFMs7Fye"
      },
      "execution_count": 2,
      "outputs": []
    },
    {
      "cell_type": "code",
      "source": [
        "phrase = reviews['sentence'].tolist()"
      ],
      "metadata": {
        "id": "dYEclSRWRkKm"
      },
      "execution_count": 3,
      "outputs": []
    },
    {
      "cell_type": "code",
      "source": [
        "reviews['sentiment'].value_counts()"
      ],
      "metadata": {
        "colab": {
          "base_uri": "https://localhost:8080/",
          "height": 209
        },
        "id": "FceCwEQ9Qr73",
        "outputId": "88fbcabe-626a-4abc-c74f-e3c019c76bc2"
      },
      "execution_count": 4,
      "outputs": [
        {
          "output_type": "execute_result",
          "data": {
            "text/plain": [
              "sentiment\n",
              "neutral     158\n",
              "positive     95\n",
              "negative     47\n",
              "Name: count, dtype: int64"
            ],
            "text/html": [
              "<div>\n",
              "<style scoped>\n",
              "    .dataframe tbody tr th:only-of-type {\n",
              "        vertical-align: middle;\n",
              "    }\n",
              "\n",
              "    .dataframe tbody tr th {\n",
              "        vertical-align: top;\n",
              "    }\n",
              "\n",
              "    .dataframe thead th {\n",
              "        text-align: right;\n",
              "    }\n",
              "</style>\n",
              "<table border=\"1\" class=\"dataframe\">\n",
              "  <thead>\n",
              "    <tr style=\"text-align: right;\">\n",
              "      <th></th>\n",
              "      <th>count</th>\n",
              "    </tr>\n",
              "    <tr>\n",
              "      <th>sentiment</th>\n",
              "      <th></th>\n",
              "    </tr>\n",
              "  </thead>\n",
              "  <tbody>\n",
              "    <tr>\n",
              "      <th>neutral</th>\n",
              "      <td>158</td>\n",
              "    </tr>\n",
              "    <tr>\n",
              "      <th>positive</th>\n",
              "      <td>95</td>\n",
              "    </tr>\n",
              "    <tr>\n",
              "      <th>negative</th>\n",
              "      <td>47</td>\n",
              "    </tr>\n",
              "  </tbody>\n",
              "</table>\n",
              "</div><br><label><b>dtype:</b> int64</label>"
            ]
          },
          "metadata": {},
          "execution_count": 4
        }
      ]
    },
    {
      "cell_type": "code",
      "source": [
        "from transformers import AutoTokenizer\n",
        "\n",
        "checkpoint = \"distilbert-base-uncased\"\n",
        "tokenizer = AutoTokenizer.from_pretrained(checkpoint)"
      ],
      "metadata": {
        "colab": {
          "base_uri": "https://localhost:8080/"
        },
        "id": "Deznp9bfB-Dz",
        "outputId": "e96bc213-929a-4c03-8bfe-3bb75af588a7"
      },
      "execution_count": 5,
      "outputs": [
        {
          "output_type": "stream",
          "name": "stderr",
          "text": [
            "/usr/local/lib/python3.10/dist-packages/huggingface_hub/utils/_token.py:89: UserWarning: \n",
            "The secret `HF_TOKEN` does not exist in your Colab secrets.\n",
            "To authenticate with the Hugging Face Hub, create a token in your settings tab (https://huggingface.co/settings/tokens), set it as secret in your Google Colab and restart your session.\n",
            "You will be able to reuse this secret in all of your notebooks.\n",
            "Please note that authentication is recommended but still optional to access public models or datasets.\n",
            "  warnings.warn(\n"
          ]
        }
      ]
    },
    {
      "cell_type": "code",
      "source": [
        "inputs = tokenizer(phrase, padding=True, truncation=True, return_tensors=\"pt\")"
      ],
      "metadata": {
        "id": "AAZX2q0YJ_eR"
      },
      "execution_count": 6,
      "outputs": []
    },
    {
      "cell_type": "code",
      "source": [
        "inputs"
      ],
      "metadata": {
        "collapsed": true,
        "colab": {
          "base_uri": "https://localhost:8080/"
        },
        "id": "Y_z3tO5aVs8r",
        "outputId": "c1071676-efba-4f61-a300-b92f5ea53eaa"
      },
      "execution_count": 7,
      "outputs": [
        {
          "output_type": "execute_result",
          "data": {
            "text/plain": [
              "{'input_ids': tensor([[  101,  1996, 20248,  ...,     0,     0,     0],\n",
              "        [  101,  1002,  9686,  ...,     0,     0,     0],\n",
              "        [  101,  2005,  1996,  ...,     0,     0,     0],\n",
              "        ...,\n",
              "        [  101,  1001, 26060,  ...,     0,     0,     0],\n",
              "        [  101,  1996,  2171,  ...,     0,     0,     0],\n",
              "        [  101,  5658,  4341,  ...,     0,     0,     0]]), 'attention_mask': tensor([[1, 1, 1,  ..., 0, 0, 0],\n",
              "        [1, 1, 1,  ..., 0, 0, 0],\n",
              "        [1, 1, 1,  ..., 0, 0, 0],\n",
              "        ...,\n",
              "        [1, 1, 1,  ..., 0, 0, 0],\n",
              "        [1, 1, 1,  ..., 0, 0, 0],\n",
              "        [1, 1, 1,  ..., 0, 0, 0]])}"
            ]
          },
          "metadata": {},
          "execution_count": 7
        }
      ]
    },
    {
      "cell_type": "code",
      "source": [
        "inputs['input_ids'].shape"
      ],
      "metadata": {
        "colab": {
          "base_uri": "https://localhost:8080/"
        },
        "id": "9q7MsWJKPexw",
        "outputId": "f89e86f1-52ce-4fb8-80e5-d7d7d6b32196"
      },
      "execution_count": 8,
      "outputs": [
        {
          "output_type": "execute_result",
          "data": {
            "text/plain": [
              "torch.Size([300, 80])"
            ]
          },
          "metadata": {},
          "execution_count": 8
        }
      ]
    },
    {
      "cell_type": "code",
      "source": [
        "from transformers import AutoModelForSequenceClassification\n",
        "\n",
        "label = {'positive':0,'neutral':1,'negative':2}\n",
        "checkpoint = \"distilbert-base-uncased\"\n",
        "model = AutoModelForSequenceClassification.from_pretrained(checkpoint,num_labels=3,id2label=label)"
      ],
      "metadata": {
        "colab": {
          "base_uri": "https://localhost:8080/"
        },
        "id": "YrP5HJO1KjhY",
        "outputId": "b291ba40-9e90-4e94-ab29-9d5a7b0a2619"
      },
      "execution_count": 9,
      "outputs": [
        {
          "output_type": "stream",
          "name": "stderr",
          "text": [
            "Some weights of DistilBertForSequenceClassification were not initialized from the model checkpoint at distilbert-base-uncased and are newly initialized: ['classifier.bias', 'classifier.weight', 'pre_classifier.bias', 'pre_classifier.weight']\n",
            "You should probably TRAIN this model on a down-stream task to be able to use it for predictions and inference.\n"
          ]
        }
      ]
    },
    {
      "cell_type": "code",
      "source": [
        "outputs = model(**inputs)"
      ],
      "metadata": {
        "id": "LdUAq10bPF3R"
      },
      "execution_count": 10,
      "outputs": []
    },
    {
      "cell_type": "code",
      "source": [
        "outputs.logits.shape"
      ],
      "metadata": {
        "colab": {
          "base_uri": "https://localhost:8080/"
        },
        "id": "WdEB4OofKv5U",
        "outputId": "5cf021ee-7895-4cb4-897d-9db3b4b991e4"
      },
      "execution_count": 11,
      "outputs": [
        {
          "output_type": "execute_result",
          "data": {
            "text/plain": [
              "torch.Size([300, 3])"
            ]
          },
          "metadata": {},
          "execution_count": 11
        }
      ]
    },
    {
      "cell_type": "code",
      "source": [
        "import torch\n",
        "\n",
        "predictions = torch.nn.functional.softmax(outputs.logits, dim=-1)\n",
        "print(predictions)"
      ],
      "metadata": {
        "colab": {
          "base_uri": "https://localhost:8080/"
        },
        "collapsed": true,
        "id": "kiIfESx969AP",
        "outputId": "cd62fe2b-7bcd-4617-afd4-c408bb51a174"
      },
      "execution_count": 12,
      "outputs": [
        {
          "output_type": "stream",
          "name": "stdout",
          "text": [
            "tensor([[0.3546, 0.3010, 0.3443],\n",
            "        [0.3505, 0.2921, 0.3574],\n",
            "        [0.3620, 0.2966, 0.3414],\n",
            "        [0.3464, 0.3113, 0.3423],\n",
            "        [0.3555, 0.2895, 0.3550],\n",
            "        [0.3471, 0.3047, 0.3482],\n",
            "        [0.3470, 0.2961, 0.3569],\n",
            "        [0.3571, 0.2941, 0.3488],\n",
            "        [0.3502, 0.3074, 0.3424],\n",
            "        [0.3567, 0.3016, 0.3417],\n",
            "        [0.3594, 0.2997, 0.3409],\n",
            "        [0.3478, 0.2885, 0.3637],\n",
            "        [0.3680, 0.2918, 0.3402],\n",
            "        [0.3512, 0.3043, 0.3445],\n",
            "        [0.3544, 0.2973, 0.3483],\n",
            "        [0.3411, 0.2969, 0.3621],\n",
            "        [0.3530, 0.2896, 0.3574],\n",
            "        [0.3412, 0.3048, 0.3539],\n",
            "        [0.3513, 0.2919, 0.3568],\n",
            "        [0.3566, 0.2865, 0.3569],\n",
            "        [0.3338, 0.3136, 0.3526],\n",
            "        [0.3570, 0.2903, 0.3527],\n",
            "        [0.3498, 0.3097, 0.3405],\n",
            "        [0.3493, 0.2931, 0.3575],\n",
            "        [0.3632, 0.2972, 0.3396],\n",
            "        [0.3384, 0.3172, 0.3444],\n",
            "        [0.3429, 0.2967, 0.3603],\n",
            "        [0.3468, 0.3019, 0.3514],\n",
            "        [0.3358, 0.3100, 0.3541],\n",
            "        [0.3399, 0.2979, 0.3622],\n",
            "        [0.3529, 0.2914, 0.3557],\n",
            "        [0.3486, 0.3090, 0.3424],\n",
            "        [0.3336, 0.3035, 0.3629],\n",
            "        [0.3626, 0.2950, 0.3424],\n",
            "        [0.3519, 0.2952, 0.3529],\n",
            "        [0.3527, 0.3015, 0.3457],\n",
            "        [0.3623, 0.3007, 0.3370],\n",
            "        [0.3673, 0.2935, 0.3391],\n",
            "        [0.3601, 0.2905, 0.3494],\n",
            "        [0.3392, 0.3065, 0.3543],\n",
            "        [0.3439, 0.3029, 0.3532],\n",
            "        [0.3458, 0.3223, 0.3319],\n",
            "        [0.3483, 0.3027, 0.3490],\n",
            "        [0.3509, 0.3042, 0.3449],\n",
            "        [0.3505, 0.2956, 0.3538],\n",
            "        [0.3560, 0.2997, 0.3443],\n",
            "        [0.3564, 0.2973, 0.3463],\n",
            "        [0.3602, 0.3152, 0.3246],\n",
            "        [0.3623, 0.2976, 0.3401],\n",
            "        [0.3649, 0.3002, 0.3350],\n",
            "        [0.3489, 0.3126, 0.3385],\n",
            "        [0.3647, 0.2977, 0.3376],\n",
            "        [0.3463, 0.3017, 0.3521],\n",
            "        [0.3517, 0.3006, 0.3478],\n",
            "        [0.3454, 0.2970, 0.3576],\n",
            "        [0.3562, 0.3066, 0.3371],\n",
            "        [0.3423, 0.3039, 0.3538],\n",
            "        [0.3618, 0.2959, 0.3423],\n",
            "        [0.3461, 0.2973, 0.3566],\n",
            "        [0.3469, 0.3060, 0.3471],\n",
            "        [0.3547, 0.2904, 0.3549],\n",
            "        [0.3601, 0.2964, 0.3436],\n",
            "        [0.3491, 0.3059, 0.3450],\n",
            "        [0.3437, 0.3038, 0.3526],\n",
            "        [0.3508, 0.2959, 0.3534],\n",
            "        [0.3428, 0.2922, 0.3650],\n",
            "        [0.3637, 0.2987, 0.3377],\n",
            "        [0.3571, 0.2968, 0.3461],\n",
            "        [0.3593, 0.2986, 0.3420],\n",
            "        [0.3513, 0.3039, 0.3448],\n",
            "        [0.3328, 0.3159, 0.3513],\n",
            "        [0.3698, 0.2944, 0.3358],\n",
            "        [0.3495, 0.3116, 0.3389],\n",
            "        [0.3613, 0.2946, 0.3441],\n",
            "        [0.3515, 0.2930, 0.3555],\n",
            "        [0.3631, 0.2949, 0.3420],\n",
            "        [0.3630, 0.2971, 0.3399],\n",
            "        [0.3669, 0.2939, 0.3392],\n",
            "        [0.3509, 0.3026, 0.3465],\n",
            "        [0.3682, 0.3056, 0.3262],\n",
            "        [0.3483, 0.3115, 0.3402],\n",
            "        [0.3543, 0.2928, 0.3529],\n",
            "        [0.3602, 0.2965, 0.3433],\n",
            "        [0.3674, 0.2891, 0.3435],\n",
            "        [0.3593, 0.2955, 0.3451],\n",
            "        [0.3465, 0.3030, 0.3505],\n",
            "        [0.3553, 0.2998, 0.3448],\n",
            "        [0.3474, 0.3031, 0.3495],\n",
            "        [0.3593, 0.3040, 0.3368],\n",
            "        [0.3525, 0.2953, 0.3522],\n",
            "        [0.3540, 0.2929, 0.3531],\n",
            "        [0.3520, 0.3030, 0.3450],\n",
            "        [0.3490, 0.2960, 0.3550],\n",
            "        [0.3483, 0.3047, 0.3470],\n",
            "        [0.3486, 0.3113, 0.3401],\n",
            "        [0.3432, 0.3145, 0.3424],\n",
            "        [0.3443, 0.3071, 0.3486],\n",
            "        [0.3689, 0.2896, 0.3415],\n",
            "        [0.3407, 0.3016, 0.3578],\n",
            "        [0.3562, 0.2907, 0.3531],\n",
            "        [0.3532, 0.2859, 0.3609],\n",
            "        [0.3368, 0.3150, 0.3482],\n",
            "        [0.3463, 0.2995, 0.3542],\n",
            "        [0.3576, 0.3004, 0.3420],\n",
            "        [0.3328, 0.3018, 0.3654],\n",
            "        [0.3389, 0.3134, 0.3478],\n",
            "        [0.3508, 0.2923, 0.3569],\n",
            "        [0.3367, 0.3067, 0.3567],\n",
            "        [0.3509, 0.2986, 0.3505],\n",
            "        [0.3508, 0.3053, 0.3438],\n",
            "        [0.3406, 0.3100, 0.3494],\n",
            "        [0.3466, 0.3075, 0.3458],\n",
            "        [0.3493, 0.2907, 0.3600],\n",
            "        [0.3376, 0.3065, 0.3560],\n",
            "        [0.3577, 0.3047, 0.3376],\n",
            "        [0.3698, 0.2872, 0.3429],\n",
            "        [0.3413, 0.2965, 0.3622],\n",
            "        [0.3432, 0.2998, 0.3569],\n",
            "        [0.3435, 0.3133, 0.3432],\n",
            "        [0.3529, 0.2965, 0.3506],\n",
            "        [0.3543, 0.3093, 0.3364],\n",
            "        [0.3499, 0.3056, 0.3445],\n",
            "        [0.3397, 0.2894, 0.3708],\n",
            "        [0.3607, 0.2857, 0.3535],\n",
            "        [0.3340, 0.3161, 0.3499],\n",
            "        [0.3468, 0.3106, 0.3426],\n",
            "        [0.3427, 0.3019, 0.3554],\n",
            "        [0.3391, 0.2963, 0.3646],\n",
            "        [0.3506, 0.2966, 0.3528],\n",
            "        [0.3486, 0.2987, 0.3527],\n",
            "        [0.3571, 0.2924, 0.3505],\n",
            "        [0.3399, 0.2978, 0.3623],\n",
            "        [0.3441, 0.2969, 0.3590],\n",
            "        [0.3428, 0.3193, 0.3378],\n",
            "        [0.3493, 0.2883, 0.3624],\n",
            "        [0.3599, 0.2907, 0.3494],\n",
            "        [0.3343, 0.3040, 0.3618],\n",
            "        [0.3608, 0.2923, 0.3469],\n",
            "        [0.3585, 0.3089, 0.3326],\n",
            "        [0.3492, 0.2981, 0.3528],\n",
            "        [0.3480, 0.2933, 0.3587],\n",
            "        [0.3653, 0.2899, 0.3448],\n",
            "        [0.3510, 0.3025, 0.3465],\n",
            "        [0.3429, 0.3133, 0.3438],\n",
            "        [0.3410, 0.2989, 0.3601],\n",
            "        [0.3424, 0.2990, 0.3587],\n",
            "        [0.3588, 0.2944, 0.3469],\n",
            "        [0.3414, 0.2971, 0.3615],\n",
            "        [0.3552, 0.3015, 0.3433],\n",
            "        [0.3533, 0.2923, 0.3544],\n",
            "        [0.3615, 0.2969, 0.3417],\n",
            "        [0.3428, 0.3130, 0.3442],\n",
            "        [0.3507, 0.2906, 0.3587],\n",
            "        [0.3632, 0.2931, 0.3436],\n",
            "        [0.3676, 0.2980, 0.3343],\n",
            "        [0.3426, 0.2924, 0.3650],\n",
            "        [0.3611, 0.2990, 0.3399],\n",
            "        [0.3410, 0.2999, 0.3592],\n",
            "        [0.3477, 0.3037, 0.3486],\n",
            "        [0.3478, 0.3069, 0.3453],\n",
            "        [0.3560, 0.2985, 0.3455],\n",
            "        [0.3451, 0.2915, 0.3634],\n",
            "        [0.3511, 0.2941, 0.3548],\n",
            "        [0.3436, 0.3040, 0.3524],\n",
            "        [0.3478, 0.3056, 0.3466],\n",
            "        [0.3481, 0.3007, 0.3511],\n",
            "        [0.3413, 0.2973, 0.3614],\n",
            "        [0.3421, 0.3067, 0.3512],\n",
            "        [0.3426, 0.3065, 0.3509],\n",
            "        [0.3571, 0.3002, 0.3427],\n",
            "        [0.3496, 0.2991, 0.3512],\n",
            "        [0.3507, 0.2937, 0.3556],\n",
            "        [0.3647, 0.2961, 0.3392],\n",
            "        [0.3482, 0.2957, 0.3561],\n",
            "        [0.3630, 0.3048, 0.3322],\n",
            "        [0.3510, 0.2954, 0.3536],\n",
            "        [0.3464, 0.2965, 0.3571],\n",
            "        [0.3461, 0.3111, 0.3428],\n",
            "        [0.3503, 0.3012, 0.3484],\n",
            "        [0.3521, 0.3032, 0.3447],\n",
            "        [0.3573, 0.3017, 0.3410],\n",
            "        [0.3621, 0.3029, 0.3350],\n",
            "        [0.3507, 0.3029, 0.3463],\n",
            "        [0.3509, 0.2935, 0.3556],\n",
            "        [0.3627, 0.3008, 0.3365],\n",
            "        [0.3609, 0.2861, 0.3530],\n",
            "        [0.3565, 0.3146, 0.3289],\n",
            "        [0.3354, 0.3106, 0.3540],\n",
            "        [0.3497, 0.3065, 0.3437],\n",
            "        [0.3497, 0.3019, 0.3484],\n",
            "        [0.3448, 0.2983, 0.3569],\n",
            "        [0.3484, 0.3150, 0.3366],\n",
            "        [0.3431, 0.3059, 0.3510],\n",
            "        [0.3463, 0.3091, 0.3446],\n",
            "        [0.3491, 0.2921, 0.3589],\n",
            "        [0.3548, 0.3035, 0.3416],\n",
            "        [0.3522, 0.2874, 0.3603],\n",
            "        [0.3608, 0.3072, 0.3320],\n",
            "        [0.3580, 0.2965, 0.3455],\n",
            "        [0.3464, 0.3088, 0.3447],\n",
            "        [0.3498, 0.3010, 0.3492],\n",
            "        [0.3571, 0.2965, 0.3464],\n",
            "        [0.3636, 0.2894, 0.3470],\n",
            "        [0.3567, 0.3075, 0.3358],\n",
            "        [0.3522, 0.3027, 0.3451],\n",
            "        [0.3504, 0.2882, 0.3614],\n",
            "        [0.3674, 0.2959, 0.3367],\n",
            "        [0.3438, 0.2980, 0.3582],\n",
            "        [0.3613, 0.2956, 0.3432],\n",
            "        [0.3420, 0.3041, 0.3539],\n",
            "        [0.3506, 0.2938, 0.3556],\n",
            "        [0.3580, 0.2896, 0.3524],\n",
            "        [0.3394, 0.2991, 0.3615],\n",
            "        [0.3607, 0.2910, 0.3483],\n",
            "        [0.3544, 0.3002, 0.3454],\n",
            "        [0.3509, 0.2899, 0.3592],\n",
            "        [0.3562, 0.2885, 0.3553],\n",
            "        [0.3649, 0.3012, 0.3339],\n",
            "        [0.3614, 0.2883, 0.3503],\n",
            "        [0.3462, 0.3124, 0.3414],\n",
            "        [0.3626, 0.2950, 0.3424],\n",
            "        [0.3492, 0.3085, 0.3423],\n",
            "        [0.3454, 0.3109, 0.3437],\n",
            "        [0.3469, 0.3041, 0.3490],\n",
            "        [0.3474, 0.3068, 0.3459],\n",
            "        [0.3476, 0.3081, 0.3443],\n",
            "        [0.3598, 0.3092, 0.3311],\n",
            "        [0.3534, 0.2962, 0.3504],\n",
            "        [0.3502, 0.2924, 0.3574],\n",
            "        [0.3475, 0.2911, 0.3614],\n",
            "        [0.3489, 0.2991, 0.3520],\n",
            "        [0.3480, 0.3024, 0.3496],\n",
            "        [0.3636, 0.2896, 0.3468],\n",
            "        [0.3554, 0.2998, 0.3447],\n",
            "        [0.3624, 0.2895, 0.3481],\n",
            "        [0.3573, 0.3017, 0.3410],\n",
            "        [0.3613, 0.2998, 0.3389],\n",
            "        [0.3492, 0.2990, 0.3518],\n",
            "        [0.3550, 0.2933, 0.3517],\n",
            "        [0.3438, 0.2986, 0.3576],\n",
            "        [0.3573, 0.2939, 0.3488],\n",
            "        [0.3522, 0.2963, 0.3516],\n",
            "        [0.3430, 0.3011, 0.3560],\n",
            "        [0.3664, 0.2997, 0.3339],\n",
            "        [0.3530, 0.3024, 0.3445],\n",
            "        [0.3477, 0.2952, 0.3571],\n",
            "        [0.3390, 0.3044, 0.3567],\n",
            "        [0.3474, 0.3096, 0.3429],\n",
            "        [0.3498, 0.2992, 0.3510],\n",
            "        [0.3462, 0.3141, 0.3397],\n",
            "        [0.3449, 0.2979, 0.3572],\n",
            "        [0.3490, 0.2876, 0.3634],\n",
            "        [0.3407, 0.3057, 0.3536],\n",
            "        [0.3500, 0.3047, 0.3454],\n",
            "        [0.3541, 0.2976, 0.3483],\n",
            "        [0.3514, 0.2924, 0.3561],\n",
            "        [0.3647, 0.3023, 0.3330],\n",
            "        [0.3544, 0.2949, 0.3507],\n",
            "        [0.3442, 0.3000, 0.3558],\n",
            "        [0.3548, 0.3046, 0.3407],\n",
            "        [0.3446, 0.3033, 0.3521],\n",
            "        [0.3481, 0.3077, 0.3442],\n",
            "        [0.3503, 0.2937, 0.3560],\n",
            "        [0.3471, 0.3021, 0.3508],\n",
            "        [0.3451, 0.3094, 0.3456],\n",
            "        [0.3540, 0.3088, 0.3372],\n",
            "        [0.3637, 0.2987, 0.3377],\n",
            "        [0.3608, 0.2968, 0.3424],\n",
            "        [0.3502, 0.2945, 0.3554],\n",
            "        [0.3468, 0.2987, 0.3546],\n",
            "        [0.3304, 0.3000, 0.3696],\n",
            "        [0.3488, 0.3063, 0.3449],\n",
            "        [0.3484, 0.3021, 0.3494],\n",
            "        [0.3424, 0.3063, 0.3513],\n",
            "        [0.3477, 0.2982, 0.3541],\n",
            "        [0.3448, 0.3000, 0.3552],\n",
            "        [0.3453, 0.2962, 0.3585],\n",
            "        [0.3496, 0.2979, 0.3525],\n",
            "        [0.3460, 0.3157, 0.3382],\n",
            "        [0.3498, 0.2892, 0.3610],\n",
            "        [0.3555, 0.3082, 0.3364],\n",
            "        [0.3481, 0.2943, 0.3577],\n",
            "        [0.3439, 0.2941, 0.3620],\n",
            "        [0.3436, 0.3040, 0.3524],\n",
            "        [0.3417, 0.3060, 0.3523],\n",
            "        [0.3502, 0.3025, 0.3473],\n",
            "        [0.3506, 0.2940, 0.3555],\n",
            "        [0.3537, 0.3027, 0.3436],\n",
            "        [0.3537, 0.2940, 0.3522],\n",
            "        [0.3474, 0.3056, 0.3470],\n",
            "        [0.3599, 0.2904, 0.3497],\n",
            "        [0.3684, 0.2922, 0.3394],\n",
            "        [0.3453, 0.3024, 0.3524],\n",
            "        [0.3456, 0.3141, 0.3403],\n",
            "        [0.3587, 0.2926, 0.3487],\n",
            "        [0.3535, 0.2970, 0.3495],\n",
            "        [0.3464, 0.3059, 0.3477],\n",
            "        [0.3393, 0.2998, 0.3609],\n",
            "        [0.3387, 0.3058, 0.3556],\n",
            "        [0.3624, 0.3067, 0.3309]], grad_fn=<SoftmaxBackward0>)\n"
          ]
        }
      ]
    },
    {
      "cell_type": "code",
      "source": [
        "model.config.id2label"
      ],
      "metadata": {
        "colab": {
          "base_uri": "https://localhost:8080/"
        },
        "id": "jLYXmG2WWEgG",
        "outputId": "4c8d68f0-8bbc-4ea2-a200-e5720666d881"
      },
      "execution_count": 13,
      "outputs": [
        {
          "output_type": "execute_result",
          "data": {
            "text/plain": [
              "{'positive': 0, 'neutral': 1, 'negative': 2}"
            ]
          },
          "metadata": {},
          "execution_count": 13
        }
      ]
    },
    {
      "cell_type": "code",
      "source": [
        "preds = predictions.tolist()"
      ],
      "metadata": {
        "id": "hDCvSWzHZJWa"
      },
      "execution_count": 14,
      "outputs": []
    },
    {
      "cell_type": "code",
      "source": [
        "preds"
      ],
      "metadata": {
        "colab": {
          "base_uri": "https://localhost:8080/"
        },
        "collapsed": true,
        "id": "V7KhNw3jczTR",
        "outputId": "2f66ede0-8da1-473d-af8a-241052ad2a90"
      },
      "execution_count": 25,
      "outputs": [
        {
          "output_type": "execute_result",
          "data": {
            "text/plain": [
              "[[0.3546488285064697, 0.30104413628578186, 0.344307005405426],\n",
              " [0.3504679501056671, 0.2920888066291809, 0.35744327306747437],\n",
              " [0.36198848485946655, 0.2965872287750244, 0.34142428636550903],\n",
              " [0.3464478850364685, 0.3112509250640869, 0.3423011600971222],\n",
              " [0.35549119114875793, 0.289540559053421, 0.35496821999549866],\n",
              " [0.34709879755973816, 0.30471736192703247, 0.34818384051322937],\n",
              " [0.3470361828804016, 0.2960652709007263, 0.35689854621887207],\n",
              " [0.3570735454559326, 0.29408058524131775, 0.348845899105072],\n",
              " [0.3501541018486023, 0.30744239687919617, 0.34240350127220154],\n",
              " [0.35674721002578735, 0.3015626072883606, 0.34169021248817444],\n",
              " [0.3594134449958801, 0.2996963858604431, 0.34089016914367676],\n",
              " [0.3477589786052704, 0.2884998023509979, 0.3637412190437317],\n",
              " [0.3679579198360443, 0.2918426990509033, 0.34019938111305237],\n",
              " [0.3511579632759094, 0.30434054136276245, 0.3445014953613281],\n",
              " [0.35441210865974426, 0.297277569770813, 0.34831029176712036],\n",
              " [0.3410503566265106, 0.2968640625476837, 0.36208558082580566],\n",
              " [0.35296812653541565, 0.28964948654174805, 0.3573824167251587],\n",
              " [0.3412488102912903, 0.30480489134788513, 0.3539462685585022],\n",
              " [0.3513247072696686, 0.2918570637702942, 0.356818288564682],\n",
              " [0.3566299080848694, 0.2864965796470642, 0.3568735420703888],\n",
              " [0.3338267505168915, 0.31356266140937805, 0.3526105582714081],\n",
              " [0.3569680452346802, 0.29033052921295166, 0.3527013659477234],\n",
              " [0.34981444478034973, 0.30969667434692383, 0.34048885107040405],\n",
              " [0.34934937953948975, 0.29312220215797424, 0.357528418302536],\n",
              " [0.3632420301437378, 0.2971895933151245, 0.33956843614578247],\n",
              " [0.33841773867607117, 0.3172051012516022, 0.34437716007232666],\n",
              " [0.3429466187953949, 0.29671981930732727, 0.36033353209495544],\n",
              " [0.3467665910720825, 0.30186742544174194, 0.35136598348617554],\n",
              " [0.3358365595340729, 0.31002047657966614, 0.354142963886261],\n",
              " [0.33989763259887695, 0.2979303300380707, 0.3621719777584076],\n",
              " [0.35288649797439575, 0.2913981080055237, 0.3557153642177582],\n",
              " [0.3485868275165558, 0.30898168683052063, 0.3424314558506012],\n",
              " [0.3335539698600769, 0.3035227060317993, 0.36292338371276855],\n",
              " [0.362573504447937, 0.29502031207084656, 0.34240615367889404],\n",
              " [0.35194098949432373, 0.29515302181243896, 0.35290592908859253],\n",
              " [0.3527461886405945, 0.3015073239803314, 0.34574639797210693],\n",
              " [0.3623441457748413, 0.30065152049064636, 0.3370043635368347],\n",
              " [0.36733973026275635, 0.29352638125419617, 0.33913397789001465],\n",
              " [0.36010825634002686, 0.29048117995262146, 0.3494105935096741],\n",
              " [0.33922743797302246, 0.3064523935317993, 0.3543201684951782],\n",
              " [0.3438836932182312, 0.30292993783950806, 0.35318636894226074],\n",
              " [0.34581780433654785, 0.322257936000824, 0.33192428946495056],\n",
              " [0.3483409583568573, 0.302662193775177, 0.3489969074726105],\n",
              " [0.35088276863098145, 0.3042074143886566, 0.34490978717803955],\n",
              " [0.35054919123649597, 0.2956254184246063, 0.3538253903388977],\n",
              " [0.35599634051322937, 0.2997470498085022, 0.34425657987594604],\n",
              " [0.3563876748085022, 0.29726970195770264, 0.34634268283843994],\n",
              " [0.3601592779159546, 0.31523561477661133, 0.32460513710975647],\n",
              " [0.3622625172138214, 0.29759109020233154, 0.34014642238616943],\n",
              " [0.3648727834224701, 0.30016598105430603, 0.3349612057209015],\n",
              " [0.3489101231098175, 0.31255924701690674, 0.33853068947792053],\n",
              " [0.3646562993526459, 0.2977425158023834, 0.3376011848449707],\n",
              " [0.34629005193710327, 0.30165284872055054, 0.35205715894699097],\n",
              " [0.35165131092071533, 0.30058586597442627, 0.3477628529071808],\n",
              " [0.3454050123691559, 0.29695937037467957, 0.35763561725616455],\n",
              " [0.3562279939651489, 0.3066354990005493, 0.33713647723197937],\n",
              " [0.34226423501968384, 0.3038915991783142, 0.3538441061973572],\n",
              " [0.36177515983581543, 0.29592838883399963, 0.34229639172554016],\n",
              " [0.34607216715812683, 0.2972916066646576, 0.35663628578186035],\n",
              " [0.34691014885902405, 0.3059932291507721, 0.34709665179252625],\n",
              " [0.35473868250846863, 0.2903877794742584, 0.35487353801727295],\n",
              " [0.3600657284259796, 0.29636427760124207, 0.3435699939727783],\n",
              " [0.3490865230560303, 0.3059234321117401, 0.34498995542526245],\n",
              " [0.34365832805633545, 0.30377286672592163, 0.3525688648223877],\n",
              " [0.35075947642326355, 0.2958601117134094, 0.35338038206100464],\n",
              " [0.34278592467308044, 0.29223504662513733, 0.36497899889945984],\n",
              " [0.3636523187160492, 0.2986508011817932, 0.33769690990448],\n",
              " [0.35711103677749634, 0.29679015278816223, 0.3460988998413086],\n",
              " [0.35932421684265137, 0.2986401915550232, 0.34203559160232544],\n",
              " [0.3513057827949524, 0.3039425015449524, 0.3447517454624176],\n",
              " [0.33279138803482056, 0.31594958901405334, 0.3512590229511261],\n",
              " [0.3697962164878845, 0.29443904757499695, 0.3357647657394409],\n",
              " [0.34950780868530273, 0.3115774691104889, 0.33891481161117554],\n",
              " [0.3612641990184784, 0.2945858836174011, 0.3441499173641205],\n",
              " [0.3515116572380066, 0.2929857075214386, 0.35550257563591003],\n",
              " [0.36313918232917786, 0.2948974370956421, 0.34196338057518005],\n",
              " [0.363036572933197, 0.29710519313812256, 0.33985817432403564],\n",
              " [0.3668855130672455, 0.2938744127750397, 0.33924010396003723],\n",
              " [0.3509067893028259, 0.30258309841156006, 0.3465101420879364],\n",
              " [0.368184894323349, 0.3056429922580719, 0.3261721134185791],\n",
              " [0.3483162820339203, 0.3114747703075409, 0.3402089774608612],\n",
              " [0.35429975390434265, 0.29279211163520813, 0.35290807485580444],\n",
              " [0.36018356680870056, 0.29646772146224976, 0.3433487117290497],\n",
              " [0.3673691749572754, 0.2890916168689728, 0.34353914856910706],\n",
              " [0.35934534668922424, 0.29553574323654175, 0.345118910074234],\n",
              " [0.3464542031288147, 0.30303195118904114, 0.35051390528678894],\n",
              " [0.35534000396728516, 0.29981890320777893, 0.3448410928249359],\n",
              " [0.34742626547813416, 0.3031051456928253, 0.3494685888290405],\n",
              " [0.35929611325263977, 0.30395081639289856, 0.33675310015678406],\n",
              " [0.3524656295776367, 0.2952989339828491, 0.35223543643951416],\n",
              " [0.35399311780929565, 0.29285770654678345, 0.3531492054462433],\n",
              " [0.3519616425037384, 0.3029952347278595, 0.3450430929660797],\n",
              " [0.3490150272846222, 0.29601529240608215, 0.35496968030929565],\n",
              " [0.34828439354896545, 0.30473992228507996, 0.3469756841659546],\n",
              " [0.3486174941062927, 0.311309814453125, 0.3400726914405823],\n",
              " [0.34315207600593567, 0.31448525190353394, 0.342362642288208],\n",
              " [0.34430989623069763, 0.30709609389305115, 0.3485940098762512],\n",
              " [0.36890527606010437, 0.2895551323890686, 0.34153953194618225],\n",
              " [0.34065499901771545, 0.3015539050102234, 0.35779112577438354],\n",
              " [0.3561610281467438, 0.2907431721687317, 0.3530958294868469],\n",
              " [0.353219211101532, 0.2858898937702179, 0.36089086532592773],\n",
              " [0.3367661237716675, 0.3149961233139038, 0.3482377827167511],\n",
              " [0.34630829095840454, 0.29945334792137146, 0.3542383313179016],\n",
              " [0.35756251215934753, 0.30041155219078064, 0.3420259654521942],\n",
              " [0.33282825350761414, 0.3018161952495575, 0.36535558104515076],\n",
              " [0.33886995911598206, 0.31336912512779236, 0.3477609157562256],\n",
              " [0.35081204771995544, 0.2923235595226288, 0.35686442255973816],\n",
              " [0.33665546774864197, 0.30666932463645935, 0.3566752076148987],\n",
              " [0.3509131371974945, 0.2985897958278656, 0.35049712657928467],\n",
              " [0.3508298397064209, 0.3053412437438965, 0.3438289165496826],\n",
              " [0.3406444191932678, 0.3099557161331177, 0.3493998348712921],\n",
              " [0.34664666652679443, 0.307511568069458, 0.34584179520606995],\n",
              " [0.3492790162563324, 0.29073500633239746, 0.35998594760894775],\n",
              " [0.3375867009162903, 0.3064611554145813, 0.3559522032737732],\n",
              " [0.357676237821579, 0.30468395352363586, 0.33763980865478516],\n",
              " [0.36982229351997375, 0.28724154829978943, 0.3429361879825592],\n",
              " [0.34128978848457336, 0.29646044969558716, 0.3622497022151947],\n",
              " [0.34321266412734985, 0.2998383045196533, 0.35694897174835205],\n",
              " [0.3435381054878235, 0.31326571106910706, 0.3431962728500366],\n",
              " [0.3529151380062103, 0.2965221703052521, 0.3505627512931824],\n",
              " [0.3542729914188385, 0.3092922270298004, 0.3364347517490387],\n",
              " [0.3499045670032501, 0.3056183457374573, 0.3444770872592926],\n",
              " [0.3397327959537506, 0.28941968083381653, 0.37084755301475525],\n",
              " [0.36073440313339233, 0.28572264313697815, 0.3535429537296295],\n",
              " [0.334020733833313, 0.316062867641449, 0.3499164283275604],\n",
              " [0.34675461053848267, 0.31061652302742004, 0.3426288366317749],\n",
              " [0.34266597032546997, 0.3019256889820099, 0.35540834069252014],\n",
              " [0.3390677869319916, 0.2963479459285736, 0.3645842671394348],\n",
              " [0.35058310627937317, 0.29663342237472534, 0.35278353095054626],\n",
              " [0.34855034947395325, 0.2987470328807831, 0.3527025580406189],\n",
              " [0.3571338653564453, 0.29238542914390564, 0.35048073530197144],\n",
              " [0.33994388580322266, 0.2977573275566101, 0.362298846244812],\n",
              " [0.34411007165908813, 0.29690492153167725, 0.3589850068092346],\n",
              " [0.3428373634815216, 0.3193208575248718, 0.3378416895866394],\n",
              " [0.34926876425743103, 0.2883131206035614, 0.36241811513900757],\n",
              " [0.3599255084991455, 0.29065051674842834, 0.34942394495010376],\n",
              " [0.334256112575531, 0.30395427346229553, 0.36178964376449585],\n",
              " [0.36081355810165405, 0.2922571003437042, 0.3469293415546417],\n",
              " [0.3584898114204407, 0.30891865491867065, 0.33259153366088867],\n",
              " [0.34916186332702637, 0.2980763912200928, 0.35276171565055847],\n",
              " [0.3479645550251007, 0.29330986738204956, 0.35872557759284973],\n",
              " [0.36528852581977844, 0.28992247581481934, 0.34478896856307983],\n",
              " [0.3509688973426819, 0.3025287389755249, 0.3465023934841156],\n",
              " [0.3429381549358368, 0.31330159306526184, 0.34376025199890137],\n",
              " [0.3409563899040222, 0.29890748858451843, 0.36013612151145935],\n",
              " [0.34235066175460815, 0.2989964783191681, 0.358652800321579],\n",
              " [0.3587537407875061, 0.2943584620952606, 0.34688782691955566],\n",
              " [0.34140267968177795, 0.2971021234989166, 0.3614951968193054],\n",
              " [0.3552182912826538, 0.3015309274196625, 0.3432507812976837],\n",
              " [0.3533090651035309, 0.29232552647590637, 0.35436540842056274],\n",
              " [0.3614637851715088, 0.29687055945396423, 0.3416656255722046],\n",
              " [0.3427981734275818, 0.31300902366638184, 0.3441927433013916],\n",
              " [0.3507087230682373, 0.2906050682067871, 0.3586861789226532],\n",
              " [0.3632422387599945, 0.2931468188762665, 0.343610942363739],\n",
              " [0.36764010787010193, 0.2980232536792755, 0.33433660864830017],\n",
              " [0.34257861971855164, 0.29238906502723694, 0.36503225564956665],\n",
              " [0.36113160848617554, 0.29898324608802795, 0.3398851454257965],\n",
              " [0.3409559726715088, 0.2998603284358978, 0.3591836988925934],\n",
              " [0.3476535677909851, 0.3037359416484833, 0.348610520362854],\n",
              " [0.3478386104106903, 0.3069109618663788, 0.3452504575252533],\n",
              " [0.355993390083313, 0.29852762818336487, 0.34547901153564453],\n",
              " [0.34509560465812683, 0.2915235459804535, 0.3633808195590973],\n",
              " [0.3511379063129425, 0.294063001871109, 0.3547990620136261],\n",
              " [0.3436310291290283, 0.3040131628513336, 0.35235583782196045],\n",
              " [0.3478192389011383, 0.30555182695388794, 0.34662890434265137],\n",
              " [0.34812456369400024, 0.30074751377105713, 0.3511279821395874],\n",
              " [0.34128373861312866, 0.2972811460494995, 0.3614351749420166],\n",
              " [0.3421074450016022, 0.3066830337047577, 0.35120952129364014],\n",
              " [0.34261903166770935, 0.3064655661582947, 0.35091543197631836],\n",
              " [0.3571138381958008, 0.30016160011291504, 0.34272465109825134],\n",
              " [0.3496244251728058, 0.2991337776184082, 0.351241797208786],\n",
              " [0.3506805896759033, 0.29371851682662964, 0.35560089349746704],\n",
              " [0.3646681308746338, 0.2960824966430664, 0.3392494022846222],\n",
              " [0.348172664642334, 0.29573994874954224, 0.3560873866081238],\n",
              " [0.3629862368106842, 0.3048030734062195, 0.3322106897830963],\n",
              " [0.3510454595088959, 0.29535698890686035, 0.35359761118888855],\n",
              " [0.3463704288005829, 0.2965131402015686, 0.3571164011955261],\n",
              " [0.3461308777332306, 0.3110553026199341, 0.3428138494491577],\n",
              " [0.3503491282463074, 0.30124029517173767, 0.3484105169773102],\n",
              " [0.3521394431591034, 0.30320748686790466, 0.34465304017066956],\n",
              " [0.35731351375579834, 0.30167287588119507, 0.341013640165329],\n",
              " [0.36206331849098206, 0.3029450476169586, 0.3349916338920593],\n",
              " [0.3507397174835205, 0.3029367923736572, 0.34632351994514465],\n",
              " [0.35089680552482605, 0.2935342788696289, 0.35556891560554504],\n",
              " [0.3627229332923889, 0.30080553889274597, 0.3364715278148651],\n",
              " [0.3609336316585541, 0.28610268235206604, 0.3529636561870575],\n",
              " [0.3564727008342743, 0.31461867690086365, 0.3289087116718292],\n",
              " [0.3354373276233673, 0.3105930984020233, 0.3539695739746094],\n",
              " [0.3497283160686493, 0.3065239489078522, 0.34374773502349854],\n",
              " [0.3497229814529419, 0.30191028118133545, 0.34836670756340027],\n",
              " [0.3448161482810974, 0.29833030700683594, 0.35685354471206665],\n",
              " [0.3483646512031555, 0.31504639983177185, 0.33658894896507263],\n",
              " [0.34310224652290344, 0.3058764636516571, 0.35102126002311707],\n",
              " [0.34629660844802856, 0.30910319089889526, 0.3446001410484314],\n",
              " [0.3490530252456665, 0.2920708954334259, 0.3588760793209076],\n",
              " [0.3548479378223419, 0.3035471439361572, 0.34160497784614563],\n",
              " [0.3522440493106842, 0.2874380648136139, 0.3603178858757019],\n",
              " [0.3608187139034271, 0.30717554688453674, 0.33200573921203613],\n",
              " [0.35798928141593933, 0.2965041995048523, 0.34550657868385315],\n",
              " [0.3464311361312866, 0.3088228404521942, 0.34474608302116394],\n",
              " [0.3497520983219147, 0.3010377287864685, 0.3492101728916168],\n",
              " [0.3570730984210968, 0.29651716351509094, 0.34640973806381226],\n",
              " [0.3636273443698883, 0.2893649935722351, 0.347007691860199],\n",
              " [0.3566911518573761, 0.3074954152107239, 0.3358135223388672],\n",
              " [0.3521900475025177, 0.3027156889438629, 0.345094233751297],\n",
              " [0.3504031002521515, 0.2881583273410797, 0.3614386022090912],\n",
              " [0.36741429567337036, 0.295911580324173, 0.3366740345954895],\n",
              " [0.34382784366607666, 0.29795050621032715, 0.35822170972824097],\n",
              " [0.36127525568008423, 0.29555612802505493, 0.3431685268878937],\n",
              " [0.3420378565788269, 0.3040883243083954, 0.3538738191127777],\n",
              " [0.35059720277786255, 0.2938070595264435, 0.3555957078933716],\n",
              " [0.35801005363464355, 0.28955399990081787, 0.3524359166622162],\n",
              " [0.33941999077796936, 0.2990685701370239, 0.3615114986896515],\n",
              " [0.36067187786102295, 0.2910115122795105, 0.34831660985946655],\n",
              " [0.35436972975730896, 0.3002270460128784, 0.345403254032135],\n",
              " [0.35086512565612793, 0.28994712233543396, 0.3591877520084381],\n",
              " [0.3562059700489044, 0.28849178552627563, 0.35530221462249756],\n",
              " [0.3648774027824402, 0.3012304902076721, 0.3338921368122101],\n",
              " [0.3613802492618561, 0.2883492410182953, 0.35027045011520386],\n",
              " [0.3461760878562927, 0.312395304441452, 0.34142863750457764],\n",
              " [0.3625865876674652, 0.29496508836746216, 0.342448353767395],\n",
              " [0.34922394156455994, 0.3084733188152313, 0.34230268001556396],\n",
              " [0.34543725848197937, 0.3109070956707001, 0.34365564584732056],\n",
              " [0.3469265401363373, 0.30407950282096863, 0.3489939570426941],\n",
              " [0.3473670482635498, 0.30675074458122253, 0.34588220715522766],\n",
              " [0.34756171703338623, 0.30811938643455505, 0.34431886672973633],\n",
              " [0.35975632071495056, 0.30916163325309753, 0.3310820162296295],\n",
              " [0.3533562421798706, 0.2962128818035126, 0.3504308760166168],\n",
              " [0.3501584231853485, 0.2924220860004425, 0.35741952061653137],\n",
              " [0.3475114405155182, 0.29109495878219604, 0.36139363050460815],\n",
              " [0.34893208742141724, 0.29909420013427734, 0.35197365283966064],\n",
              " [0.34798845648765564, 0.3024235963821411, 0.34958791732788086],\n",
              " [0.3635565936565399, 0.28961074352264404, 0.3468326926231384],\n",
              " [0.35541436076164246, 0.2998379170894623, 0.34474772214889526],\n",
              " [0.36235374212265015, 0.2895154356956482, 0.34813082218170166],\n",
              " [0.35731253027915955, 0.3016992509365082, 0.3409882187843323],\n",
              " [0.3612934350967407, 0.2997888922691345, 0.33891764283180237],\n",
              " [0.34918248653411865, 0.29898759722709656, 0.35182997584342957],\n",
              " [0.35496950149536133, 0.2933347821235657, 0.3516956865787506],\n",
              " [0.34377723932266235, 0.2985762357711792, 0.35764652490615845],\n",
              " [0.35726356506347656, 0.2939007580280304, 0.34883567690849304],\n",
              " [0.35215523838996887, 0.2962760329246521, 0.3515687584877014],\n",
              " [0.34295526146888733, 0.3010600507259369, 0.35598474740982056],\n",
              " [0.3663703501224518, 0.2997339069843292, 0.33389580249786377],\n",
              " [0.3530377745628357, 0.3024159073829651, 0.3445463478565216],\n",
              " [0.3476710915565491, 0.295233815908432, 0.35709506273269653],\n",
              " [0.33897462487220764, 0.304355651140213, 0.35666972398757935],\n",
              " [0.3474401533603668, 0.30961301922798157, 0.3429468870162964],\n",
              " [0.3497669994831085, 0.2992348074913025, 0.3509982228279114],\n",
              " [0.3462091088294983, 0.31406858563423157, 0.33972224593162537],\n",
              " [0.3448963761329651, 0.29793691635131836, 0.35716673731803894],\n",
              " [0.34897980093955994, 0.2875838279724121, 0.36343634128570557],\n",
              " [0.3406885266304016, 0.3056848645210266, 0.35362663865089417],\n",
              " [0.3499666452407837, 0.3046609163284302, 0.34537240862846375],\n",
              " [0.35406652092933655, 0.29763221740722656, 0.3483012914657593],\n",
              " [0.3514440655708313, 0.2924145460128784, 0.3561413586139679],\n",
              " [0.3646623492240906, 0.30234000086784363, 0.3329976797103882],\n",
              " [0.35436514019966125, 0.29491615295410156, 0.3507186770439148],\n",
              " [0.3442040681838989, 0.2999519109725952, 0.35584402084350586],\n",
              " [0.35477012395858765, 0.3045780658721924, 0.3406517505645752],\n",
              " [0.3445897400379181, 0.3033367097377777, 0.3520735800266266],\n",
              " [0.348130464553833, 0.30767321586608887, 0.3441963195800781],\n",
              " [0.35034042596817017, 0.2936791479587555, 0.35598045587539673],\n",
              " [0.34708696603775024, 0.3021395802497864, 0.35077351331710815],\n",
              " [0.3450881242752075, 0.309360533952713, 0.34555134177207947],\n",
              " [0.3540295362472534, 0.30877548456192017, 0.33719494938850403],\n",
              " [0.3636523187160492, 0.2986508011817932, 0.33769690990448],\n",
              " [0.3607749342918396, 0.2968156337738037, 0.3424094617366791],\n",
              " [0.35016053915023804, 0.2944522798061371, 0.3553871512413025],\n",
              " [0.34678056836128235, 0.2986648976802826, 0.35455456376075745],\n",
              " [0.3304218649864197, 0.29995521903038025, 0.36962297558784485],\n",
              " [0.3487500548362732, 0.30630868673324585, 0.3449411988258362],\n",
              " [0.34843793511390686, 0.30212971568107605, 0.3494323492050171],\n",
              " [0.3424304127693176, 0.30630382895469666, 0.3512657880783081],\n",
              " [0.34771427512168884, 0.2981908321380615, 0.35409489274024963],\n",
              " [0.344806432723999, 0.2999715209007263, 0.35522204637527466],\n",
              " [0.3453255295753479, 0.29619747400283813, 0.3584769368171692],\n",
              " [0.3496137857437134, 0.2979070246219635, 0.3524791896343231],\n",
              " [0.3460434377193451, 0.31574520468711853, 0.338211327791214],\n",
              " [0.34978461265563965, 0.2892013490200043, 0.3610140383243561],\n",
              " [0.35546740889549255, 0.3081636428833008, 0.3363689184188843],\n",
              " [0.348065584897995, 0.29428061842918396, 0.35765379667282104],\n",
              " [0.3438652753829956, 0.2941236197948456, 0.3620111048221588],\n",
              " [0.3436310291290283, 0.3040131628513336, 0.35235583782196045],\n",
              " [0.34174540638923645, 0.3059784770011902, 0.352276086807251],\n",
              " [0.35021063685417175, 0.3025364279747009, 0.34725290536880493],\n",
              " [0.3505629599094391, 0.2939785122871399, 0.35545846819877625],\n",
              " [0.35370415449142456, 0.30267661809921265, 0.3436192274093628],\n",
              " [0.3537343740463257, 0.2940158247947693, 0.3522498905658722],\n",
              " [0.347367525100708, 0.305589497089386, 0.3470430374145508],\n",
              " [0.35989296436309814, 0.2903631329536438, 0.34974396228790283],\n",
              " [0.3683840036392212, 0.29217636585235596, 0.33943963050842285],\n",
              " [0.34525734186172485, 0.30238062143325806, 0.3523620665073395],\n",
              " [0.3456164002418518, 0.31407248973846436, 0.3403110206127167],\n",
              " [0.35870832204818726, 0.29257437586784363, 0.3487173318862915],\n",
              " [0.35354065895080566, 0.29697877168655396, 0.34948059916496277],\n",
              " [0.3463883101940155, 0.3059018850326538, 0.3477098345756531],\n",
              " [0.3392575681209564, 0.2997930943965912, 0.3609493374824524],\n",
              " [0.33866816759109497, 0.305753618478775, 0.3555781841278076],\n",
              " [0.3624008297920227, 0.30667227506637573, 0.33092689514160156]]"
            ]
          },
          "metadata": {},
          "execution_count": 25
        }
      ]
    },
    {
      "cell_type": "code",
      "source": [
        "out_labels = [np.argmax(pred) for pred in preds]"
      ],
      "metadata": {
        "id": "EYivlDMQWRnf"
      },
      "execution_count": 15,
      "outputs": []
    },
    {
      "cell_type": "code",
      "source": [
        "reviews['labels'] = reviews['sentiment'].apply(lambda x:label[x])\n",
        "y = reviews['labels'].tolist()"
      ],
      "metadata": {
        "colab": {
          "base_uri": "https://localhost:8080/"
        },
        "id": "eM2L4EtZa8sI",
        "outputId": "022233db-7cb2-4fb2-b112-607e967d4dbb"
      },
      "execution_count": 19,
      "outputs": [
        {
          "output_type": "stream",
          "name": "stderr",
          "text": [
            "<ipython-input-19-427fe368ff8a>:1: SettingWithCopyWarning: \n",
            "A value is trying to be set on a copy of a slice from a DataFrame.\n",
            "Try using .loc[row_indexer,col_indexer] = value instead\n",
            "\n",
            "See the caveats in the documentation: https://pandas.pydata.org/pandas-docs/stable/user_guide/indexing.html#returning-a-view-versus-a-copy\n",
            "  reviews['labels'] = reviews['sentiment'].apply(lambda x:label[x])\n"
          ]
        }
      ]
    },
    {
      "cell_type": "code",
      "source": [
        "y[:5]"
      ],
      "metadata": {
        "colab": {
          "base_uri": "https://localhost:8080/"
        },
        "id": "K_BAUYawb9ia",
        "outputId": "ae3db890-0087-4ef6-df30-f4eb970bfbd6"
      },
      "execution_count": 23,
      "outputs": [
        {
          "output_type": "execute_result",
          "data": {
            "text/plain": [
              "[0, 2, 0, 1, 1]"
            ]
          },
          "metadata": {},
          "execution_count": 23
        }
      ]
    },
    {
      "cell_type": "code",
      "source": [
        "out_labels[:5]"
      ],
      "metadata": {
        "colab": {
          "base_uri": "https://localhost:8080/"
        },
        "id": "12ACwV4abkCf",
        "outputId": "a3c0866b-6c83-4941-9c87-8282a67e21dd"
      },
      "execution_count": 26,
      "outputs": [
        {
          "output_type": "execute_result",
          "data": {
            "text/plain": [
              "[0, 2, 0, 0, 0]"
            ]
          },
          "metadata": {},
          "execution_count": 26
        }
      ]
    },
    {
      "cell_type": "code",
      "source": [],
      "metadata": {
        "id": "gih0RiodePNe"
      },
      "execution_count": null,
      "outputs": []
    }
  ]
}